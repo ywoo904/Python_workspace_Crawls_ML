# with 블럭과 인코딩 방식
# (형식) 
# with open(file,mode,encoding) as e
# pass # 참조변수를 참조하여 작업내용 지정  
# 예시) 

try:
    with open('data/test_test.txt', 'r', encoding= 'utf-8') as f: 
        rbuf= f.read()
        print(rbuf)
        
    with open('data/test_test','w',encoding= 'utf-8') as f: 
        f.write("안녕하세요...")
        f.write("\n연습입니다.") 
        
except Exception as e: 
    print("Error 발생:",e)  