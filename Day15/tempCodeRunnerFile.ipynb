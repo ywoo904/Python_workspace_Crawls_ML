import os 
print(os.getcwd()) #/Users/wyattwoo/Desktop/Python_Workspace/Python_Workspace/Day15 

try: 
    with open('data/test_test.txt','r',encoding='utf-8') as f: 
        rbuf = f.read()  
        print(rbuf)
    
    with open('data/test_test.txt','w', encoding= 'utf-8') as f: 
        f.write("메모장에 내용을 추가해보았습니다.") 
        f.write("with을 활용한 open기능을 실험중입니다")

except Exception as e:
    print("에러발생",e)

# 
list = os.listdir('.')  
print(list) 