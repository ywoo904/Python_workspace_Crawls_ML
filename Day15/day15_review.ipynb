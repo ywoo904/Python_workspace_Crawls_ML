{
 "cells": [
  {
   "cell_type": "code",
   "execution_count": 22,
   "metadata": {},
   "outputs": [
    {
     "name": "stdout",
     "output_type": "stream",
     "text": [
      "/Users/wyattwoo/Desktop/Python_Workspace/Python_Workspace/Day15\n",
      "메모장에 내용을 추가해보았습니다.with을 활용한 open기능을 실험중입니다\n",
      "['.DS_Store', 'day15_review.ipynb', 'tempCodeRunnerFile.ipynb', 'day15.ipynb', 'data']\n",
      "/Users/wyattwoo/Desktop/Python_Workspace/Python_Workspace/Day15/data/test_test.txt\n",
      "False\n",
      "True\n",
      "('data', 'test_test.txt')\n"
     ]
    }
   ],
   "source": [
    "import os \n",
    "print(os.getcwd()) #/Users/wyattwoo/Desktop/Python_Workspace/Python_Workspace/Day15 \n",
    "\n",
    "try: \n",
    "    with open('data/test_test.txt','r',encoding='utf-8') as f: \n",
    "        rbuf = f.read()  \n",
    "        print(rbuf)\n",
    "    \n",
    "    with open('data/test_test.txt','w', encoding= 'utf-8') as f: \n",
    "        f.write(\"메모장에 내용을 추가해보았습니다.\") \n",
    "        f.write(\"with을 활용한 open기능을 실험중입니다\")\n",
    "\n",
    "except Exception as e:\n",
    "    print(\"에러발생\",e)\n",
    "\n",
    "list = os.listdir('.')  \n",
    "print(list) \n",
    "# Day15 폴더의 내부 디렉토리를 전부 가져온다. ['.DS_Store', 'day15_review.ipynb', 'tempCodeRunnerFile.ipynb', 'day15.ipynb', 'data']\n",
    "\n",
    "import os.path \n",
    "print(os.path.abspath('data/test_test.txt'))\n",
    "# 절대경로: /Users/wyattwoo/Desktop/Python_Workspace/Python_Workspace/Day15/data/test_test.txt\n",
    "\n",
    "print(os.path.isdir('data/test_test.txt')) #False\n",
    "print(os.path.isfile('data/test_test.txt')) #True \n",
    "\n",
    "print(os.path.split('data/test_test.txt')) #경로정보와 파일명 분리 \n",
    "# ('data', 'test_test.txt')\n",
    "\n",
    "\n"
   ]
  }
 ],
 "metadata": {
  "interpreter": {
   "hash": "aee8b7b246df8f9039afb4144a1f6fd8d2ca17a180786b69acc140d282b71a49"
  },
  "kernelspec": {
   "display_name": "Python 3.10.3 64-bit",
   "language": "python",
   "name": "python3"
  },
  "language_info": {
   "codemirror_mode": {
    "name": "ipython",
    "version": 3
   },
   "file_extension": ".py",
   "mimetype": "text/x-python",
   "name": "python",
   "nbconvert_exporter": "python",
   "pygments_lexer": "ipython3",
   "version": "3.10.3"
  },
  "orig_nbformat": 4
 },
 "nbformat": 4,
 "nbformat_minor": 2
}
