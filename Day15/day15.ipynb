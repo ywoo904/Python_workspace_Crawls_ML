{
 "cells": [
  {
   "cell_type": "code",
   "execution_count": 8,
   "metadata": {},
   "outputs": [
    {
     "name": "stdout",
     "output_type": "stream",
     "text": [
      "안녕하세요...\n",
      "연습입니다.\n"
     ]
    }
   ],
   "source": [
    "# with 블럭과 인코딩 방식\n",
    "# (형식) \n",
    "# with open(file,mode,encoding) as e\n",
    "# pass # 참조변수를 참조하여 작업내용 지정  \n",
    "# 예시) \n",
    "\n",
    "try:\n",
    "    with open('data/test_test.txt', 'r', encoding= 'utf-8') as f: \n",
    "        rbuf= f.read()\n",
    "        print(rbuf)\n",
    "        \n",
    "    with open('data/test_test.txt','w',encoding= 'utf-8') as f: \n",
    "        f.write(\"안녕하세요...\")\n",
    "        f.write(\"\\n연습입니다.\") \n",
    "        \n",
    "except Exception as e: \n",
    "    print(\"Error 발생:\",e)  "
   ]
  },
  {
   "cell_type": "code",
   "execution_count": null,
   "metadata": {},
   "outputs": [],
   "source": [
    "##파일시스템...\n",
    "##OS내에서 사용하는 정보를 얻거나 동작을 하는 함수들 \n",
    "\n",
    "# 사용하는 모듈: os \n",
    "# [파일 및 디렉토리 관련 함수]\n",
    "# os.getcwd(): 현재 작업 디렉터리 위치를 반환  \n"
   ]
  }
 ],
 "metadata": {
  "interpreter": {
   "hash": "aee8b7b246df8f9039afb4144a1f6fd8d2ca17a180786b69acc140d282b71a49"
  },
  "kernelspec": {
   "display_name": "Python 3.10.3 64-bit",
   "language": "python",
   "name": "python3"
  },
  "language_info": {
   "codemirror_mode": {
    "name": "ipython",
    "version": 3
   },
   "file_extension": ".py",
   "mimetype": "text/x-python",
   "name": "python",
   "nbconvert_exporter": "python",
   "pygments_lexer": "ipython3",
   "version": "3.10.3"
  },
  "orig_nbformat": 4
 },
 "nbformat": 4,
 "nbformat_minor": 2
}
