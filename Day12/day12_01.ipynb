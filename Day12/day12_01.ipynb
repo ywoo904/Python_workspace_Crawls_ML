{
 "cells": [
  {
   "cell_type": "markdown",
   "metadata": {},
   "source": [
    "#### 실습 : www.naver.com, www.daum.net, www.yahoo.com 에서 li태그 목록 정보 불러와 출력해보세요\n",
    "[추가] => new 중 하나를 선택해서 주요기사 내용을 출력하세요"
   ]
  },
  {
   "cell_type": "code",
   "execution_count": 48,
   "metadata": {},
   "outputs": [
    {
     "name": "stdout",
     "output_type": "stream",
     "text": [
      "pickle save\n",
      "pickle load\n",
      "['동해시, 개청 42주년 기념행사 미개최..3년째 못 해', \"'휴대폰 쇼핑'이 대세..2월 온라인 매출 76%가 '모바일'\", '중대본 \"요양시설 확진자 신속 치료..요양기동반 운영 추진\"', \"홍콩증시, '사업보고서 미제출' 30여개사 거래 중단\", '유엔 안보리, 소말리아 새 평화유지군 만장일치 승인', '러 경기침체, 우크라 침공 후 급격하게 진행..\"오래 지속될 것\"', \"정부, '품귀현상' 해열제·감기약 공급 확대 지속키로\", '카페 일회용품 퇴출 첫날 곳곳 실랑이..\"개인이 선택해야\"', \"파키스탄 총리, 불신임 유력에도 사임 거부..'미국 음모론' 제기\", '러 철군약속 못믿는 바이든 \"푸틴, 스스로 고립시키고 있다\"', '박터지는 대구..여기에 朴心까지[막오르는 6·1 지방선거]⑤', \"사고 터지면 경영자 高강도 수사.. 현장은 '작업 중지' 속출\", '미국 휘발유 가격 급등에 도요타·테슬라·현대차 점유율↑ 전망', '청두 한중혁신창업단지, 새로운 협력 청사진 제시', '쌍용차 매각대금 납입 못한 날 금융위 \"정상추진\" 인수위 보고', '시도교육감협 \"인수위 산하 전문가 참여 교육정책 기구 제안\"', '\"국민께 반성한다\" 신전대협, 만우절 맞아 국정백서 \\'풍자 사이트\\' 열어', '롯데카드, 매각 추진..인수 후보 우리·하나·KT 등 거론', \"파괴된 러시아 장갑차 앞에서 '두 손 번쩍' 든 우크라 군인 [뉴시스Pic]\", '어린이 해열제 391%·기침가래약 210% 생산↑..\"당분간 공급 확대 유지\"', '[무등의 아침] 윤영덕 \"민주당 중진, 험지 도전해야..윤석열 당선인 국정수행 기대치 낮아\"', '[영상] 13시간씩 전기 없이 버티는 스리랑카..반정부 시위 격화 [나우,어스]', \"[핵잼 사이언스] 두 눈 크기도 짝짝..심해사는 희귀 '딸기 오징어' 포착\", \"[데일리 북한]'4월 경축' 본격화.. 김정은, 선전 간부들과 기념촬영\", '[지구촌 돋보기] 지구는 미러 갈등..국제우주정거장 상황은?', '[양낙규의 Defence Club]한미가 새로 만들 작계는', '\"기다리고 있던 사람 많다\"..양도세 중과 유예에 활기 찾는 거래시장 [부동산360]', \"성종, 환관에도 종1품 벼슬 '파격'.. 연산군은 '복종 아니면 죽음' 강요\", '태안 모항항 인근 해상서 어선 화재..승선원 6명은 무사', '매화', '권덕철 \"2주간 유행 안정시 실내 마스크 외 모든 거리두기 해제 검토\"', \"파괴된 러시아 장갑차 앞에서 '두 손 번쩍' 든 우크라 군인\"]\n"
     ]
    }
   ],
   "source": [
    "import urllib.request           # 원격지 서버 파일 요청\n",
    "from bs4 import BeautifulSoup   # Html파싱\n",
    "\n",
    "url = 'http://www.naver.com'    # 접속할 주소\n",
    "url_n = 'https://news.naver.com/main/main.naver?mode=LSD&mid=shm&sid1=101'\n",
    "url1 = 'https://news.daum.net/'\n",
    "\n",
    "res = urllib.request.urlopen(url1)   # 응답 객체\n",
    "res.geturl()                         # 접속 url주소를 반환\n",
    "data =res.read()                     # 객체 데이터를 읽어 data변수 저장\n",
    "\n",
    "type(data)\n",
    "# utd-8 디코딩\n",
    "src = data.decode('utf-8')\n",
    "# html 파싱\n",
    "html = BeautifulSoup(src,'html.parser')\n",
    "li_tags = html.select('.tit_g > a')\n",
    "\n",
    "# a_tags = html.find_all('a')\n",
    "# for a in li_tags:\n",
    "#     if a.string:\n",
    "#         print(\"a tag내용: \",a.string)\n",
    "\n",
    "# 크롤링 데이터\n",
    "crawling_data = []\n",
    "i=0\n",
    "for li in li_tags:\n",
    "    if li.string:\n",
    "        # print(f\"li tag내용[{i}]: \",li.string.strip())\n",
    "        crawling_data.append(li.string.strip())\n",
    "    i+=1\n",
    "# print(\"crawling_result\")\n",
    "# print(crawling_data)\n",
    "# print(type(crawling_data))\n",
    "\n",
    "# crawling_data.txt로 저장하세요(data/crawling.txt로 저장)\n",
    "# text save = object -> file(string) -> load(string)\n",
    "# file = open('data/crawling_data.txt','a',encoding='utf-8')\n",
    "# for wr in crawling_data:\n",
    "#     file.write(wr+\"\\n\")     # 저장할 문자열\n",
    "# file.close()\n",
    "\n",
    "## pickle로 저장하기\n",
    "import pickle\n",
    "\n",
    "# save\n",
    "with open('data/data.pickle1','wb') as file:\n",
    "    pickle.dump(crawling_data,file)\n",
    "print(\"pickle save\")\n",
    "\n",
    "# load\n",
    "with open('data/data.pickle1','rb') as file:\n",
    "    crawling_data = pickle.load(file)\n",
    "print(f\"pickle load\\n{crawling_data}\")"
   ]
  },
  {
   "cell_type": "markdown",
   "metadata": {},
   "source": [
    "#### pickle\n",
    "- import pickle을 통해서 모듈 임포트가 필요함\n",
    "- pickle 모듈을 이용하면 원하는 데이터를 자료형의 변경없이 파일로\n",
    "그대로 저장하여 그대로 로드하여 사용이 가능함\n",
    "- pickle로 데이터를 저장하거나 불러올 때는 파일을 바이트 형식으로 읽거나 써야한다.\n",
    "- wb로 데이터를 입력하는 경우, 확장자는 .bin을 사용하는게 좋다\n",
    "- 모든 파이썬 객체를 저장하고 읽을 수 있다\n",
    "\n",
    "(저장)  \n",
    "pickle.dump(data, file) -> data 저장한 소스 데이터 버퍼, file은 저장할 위치\n"
   ]
  },
  {
   "cell_type": "code",
   "execution_count": 33,
   "metadata": {},
   "outputs": [],
   "source": [
    "# 예)  저장\n",
    "import pickle\n",
    "list = [1,2,3,4,5]\n",
    "with open('list.bin','wb') as f:\n",
    "    pickle.dump(list,f)\n",
    "# (원래) file = open('list.bin','wb')\n",
    "# list = [1,2,3,4,5]\n",
    "# pickle.dump(list,file)\n",
    "# file.close\n"
   ]
  },
  {
   "cell_type": "code",
   "execution_count": 35,
   "metadata": {},
   "outputs": [
    {
     "name": "stdout",
     "output_type": "stream",
     "text": [
      "[1, 2, 3, 4, 5]\n"
     ]
    }
   ],
   "source": [
    "# 예) 로드(읽기) var = pickle.load(file)\n",
    "import pickle\n",
    "with open('list.bin','rb') as f:\n",
    "    data = pickle.load(f)\n",
    "print(data)"
   ]
  },
  {
   "cell_type": "markdown",
   "metadata": {},
   "source": [
    "#### 단어 빈도수  \n",
    "특정 문서의 자료를 토대로 단어들의 출현 빈도수를 이용하여 해당 문서의 특징 또는 경향을 분석하는 방법을 토픽분석이라고 한다."
   ]
  },
  {
   "cell_type": "code",
   "execution_count": 2,
   "metadata": {},
   "outputs": [
    {
     "name": "stdout",
     "output_type": "stream",
     "text": [
      "정경심 ---> 4\n",
      "조국 ---> 10\n",
      "장관 ---> 3\n",
      "서울대 ---> 4\n",
      "복직 ---> 3\n",
      "지하철 ---> 4\n",
      "막판 ---> 3\n",
      "설리 ---> 3\n",
      "축구 ---> 3\n",
      ">> 단어 전처리 끝 결과 <<\n",
      "{'정경심': 4, '조국': 10, '장관': 3, '서울대': 4, '복직': 3, '지하철': 4, '막판': 3, '설리': 3, '축구': 3}\n",
      ">> top 5 <<\n",
      "[('조국', 10), ('정경심', 4), ('서울대', 4), ('지하철', 4), ('장관', 3)]\n"
     ]
    }
   ],
   "source": [
    "import pickle\n",
    "\n",
    "# pickle data file load\n",
    "file = open(\"data/data.pickle\",mode='rb')\n",
    "news_data2 = pickle.load(file)\n",
    "\n",
    "# 텍스트 전처리\n",
    "import re\n",
    "def clean_text(text_str):\n",
    "    # 문장부호 제거\n",
    "    text_str_re = re.sub(\n",
    "        '[,.?!:\\'\\\"]',\n",
    "        '',\n",
    "        text_str\n",
    "        )  # sub(패턴, 변경단어, 변경할 자료)\n",
    "    # 특수문자, 숫자 제거\n",
    "    text_str_re = re.sub(\n",
    "        '[!@#$%^&*()]|[0-9]',\n",
    "        '',\n",
    "        text_str_re)\n",
    "    # 영문 소문자 -> 영문제거\n",
    "    text_str_re = text_str_re.lower()\n",
    "    text_str_re = re.sub('[a-z]','',text_str_re)\n",
    "    # 공백 제거\n",
    "    text_str_re = ' '.join(text_str_re.split())\n",
    "    \n",
    "    return text_str_re\n",
    "\n",
    "## 텍스트 전처리 함수 호출\n",
    "clean_texts = [clean_text(row) for row in news_data2]\n",
    "# print(\">> text전처리 결과 <<\")\n",
    "# print(clean_texts)\n",
    "\n",
    "## word count\n",
    "word_count = {}\n",
    "\n",
    "for text in clean_texts:        # 텍스트 -> 문장\n",
    "    for word in text.split():    # 문장 -> 단어\n",
    "        word_count[word] = word_count.get(word,0) + 1\n",
    "# print(\">> 워드 카운트 <<\")\n",
    "# print(word_count)\n",
    "\n",
    "## 단어 전처리\n",
    "# 불용 단어 제거\n",
    "del word_count['[바로잡습니다]']\n",
    "\n",
    "# 3회 이상 출력 단어 & 2~4자 단어 지정\n",
    "new_word_count = {}\n",
    "for word,cnt in word_count.items():\n",
    "    if cnt >= 3 and len(word) >=2 and len(word) < 4:\n",
    "        print(word,'--->',word_count[word])\n",
    "        new_word_count[word] = new_word_count.get(word,cnt)\n",
    "print(\">> 단어 전처리 끝 결과 <<\")\n",
    "print(new_word_count)\n",
    "\n",
    "## top word counter\n",
    "from collections import Counter     # 모듈을 추가\n",
    "\n",
    "counter = Counter(new_word_count)\n",
    "top5_word = counter.most_common(5)  # Top 5\n",
    "print(\">> top 5 <<\")\n",
    "print(top5_word)"
   ]
  },
  {
   "cell_type": "code",
   "execution_count": null,
   "metadata": {},
   "outputs": [],
   "source": [
    "'''\n",
    "import pickle\n",
    "\n",
    "# load\n",
    "with open('data/data.pickle1','rb') as file:\n",
    "    crawling_data = pickle.load(file)\n",
    "\n",
    "import re\n",
    "clean_texts_1 = [clean_text(row) for row in crawling_data]\n",
    "# print(clean_texts_1)\n",
    "\n",
    "# word count\n",
    "word_count = {}\n",
    "for text in clean_texts_1:\n",
    "    for word in text.split():\n",
    "        word_count[word] = word_count.get(word,0) + 1\n",
    "# print(word_count)\n",
    "\n",
    "# 단어 전처리\n",
    "# 불용 단어제거\n",
    "del word_count['파괴된']\n",
    "\n",
    "# 2회 이상 출력 단어 & 2~4자 단어지정\n",
    "new_word_count = {}\n",
    "for word,cnt in word_count.items():\n",
    "    if cnt >=2 and len(word) >= 2 and len(word) < 4:\n",
    "        print(word,'--->',word_count[word])\n",
    "        new_word_count[word] = new_word_count.get(word,cnt)\n",
    "print(new_word_count)\n",
    "\n",
    "# top word counter\n",
    "from collections import Counter\n",
    "\n",
    "counter = Counter(new_word_count)\n",
    "top5_word = counter.most_common(5)\n",
    "print(\">> top 5 <<\")\n",
    "print(top5_word)\n",
    "'''"
   ]
  },
  {
   "cell_type": "markdown",
   "metadata": {},
   "source": [
    "#### 자료시각화 (metplotlib 패키지 설치)  \n",
    "pip install matplotlib"
   ]
  },
  {
   "cell_type": "code",
   "execution_count": 8,
   "metadata": {},
   "outputs": [
    {
     "name": "stdout",
     "output_type": "stream",
     "text": [
      "['조국', '정경심', '서울대', '지하철', '장관']\n",
      "[10, 4, 4, 4, 3]\n",
      "선 그래프\n"
     ]
    },
    {
     "data": {
      "image/png": "[encoded data removed]",
      "text/plain": [
       "<Figure size 432x288 with 1 Axes>"
      ]
     },
     "metadata": {
      "needs_background": "light"
     },
     "output_type": "display_data"
    },
    {
     "name": "stdout",
     "output_type": "stream",
     "text": [
      "막대 그래프\n"
     ]
    },
    {
     "data": {
      "image/png": "[encoded data removed]",
      "text/plain": [
       "<Figure size 432x288 with 1 Axes>"
      ]
     },
     "metadata": {
      "needs_background": "light"
     },
     "output_type": "display_data"
    },
    {
     "name": "stdout",
     "output_type": "stream",
     "text": [
      "원형 그래프\n"
     ]
    },
    {
     "data": {
      "image/png": "[encoded data removed]",
      "text/plain": [
       "<Figure size 432x288 with 1 Axes>"
      ]
     },
     "metadata": {},
     "output_type": "display_data"
    }
   ],
   "source": [
    "# 1. 단어와 출현 빈도수 만들기\n",
    "words = []       # 단어\n",
    "counts = []     # 출현 빈도수\n",
    "\n",
    "for word,count in top5_word:\n",
    "    words.append(word) \n",
    "    counts.append(count)\n",
    "print(words)\n",
    "print(counts)\n",
    "\n",
    "## pyplot 모듈을 import => plt로 별칭 사용\n",
    "import matplotlib.pyplot as plt\n",
    "\n",
    "## 차트에서 한글 지원\n",
    "from matplotlib import font_manager,rc\n",
    "font_name = font_manager.FontProperties(\n",
    "    fname=\"C:\\Windows\\Fonts/malgun.ttf\").get_name()\n",
    "rc('font',family=font_name)\n",
    "\n",
    "## 선 그래프\n",
    "print('선 그래프')\n",
    "plt.plot(words,counts)\n",
    "plt.show()\n",
    "\n",
    "## 막대그래프\n",
    "print('막대 그래프')\n",
    "plt.bar(words,counts)\n",
    "plt.show()\n",
    "\n",
    "## 원형그래프: pie()\n",
    "print('원형 그래프')\n",
    "plt.pie(counts,labels=words,autopct='%.1f%%')\n",
    "plt.show()"
   ]
  },
  {
   "cell_type": "markdown",
   "metadata": {},
   "source": [
    "#### DataBase 사용  \n",
    "  \n",
    "SQLite3\n",
    "- 기기 내부에서만 사용할 수 있는 DBMS이다\n",
    "- 주로 모바일이나 소형 기기에서 관계형 데이터베이스를 생성해주슨 소프트웨어\n",
    "- 생성된 DB에는 외부에서 접근을 허용하지않음\n",
    "- 파이썬은 SQLite3를 기본으로 제공하고 있어 제약없이 import하여 사용할 수 있음\n"
   ]
  },
  {
   "cell_type": "code",
   "execution_count": 3,
   "metadata": {},
   "outputs": [
    {
     "name": "stdout",
     "output_type": "stream",
     "text": [
      "홍길동 \t 010-1234-1234 t 인천\n",
      "이순신 \t 010-9999-9999 t 해남시\n",
      "강감찬 \t 010-2222-2222 t 평양시\n",
      "이성계 \t 010-3333-3333 t 개성시\n",
      "프로그램을 종료합니다.\n"
     ]
    }
   ],
   "source": [
    "## 테이블 생성\n",
    "#  Create table [if not exists] table-name(\n",
    "#    column-name data-type-name column-constraint,\n",
    "#    ....\n",
    "#   )\n",
    "\n",
    "# data-type\n",
    "#   TEXT : 문자형       ex)TEXT(size)\n",
    "#   NUMERIC : 숫자형    ex)NUMERIC\n",
    "#   Integer : 정수형\n",
    "#   REAL : 실수형\n",
    "#   BLOB : 대용량 자료\n",
    "\n",
    "# 제약조건\n",
    "#   PRIMARY KEY : 기본키\n",
    "#   UNIQUE : 중복불가\n",
    "#   NOT NULL : 생략불가\n",
    "#   CHECK : 제한조건\n",
    "#   DEFAULT : 기본값\n",
    "\n",
    "# CRUD -> Create(Insert), Read(Select), Update(Update), Delete(Delete)\n",
    "\n",
    "## SQLite3 사용예시\n",
    "## 모듈 import\n",
    "import sqlite3\n",
    "# 확인\n",
    "# print(sqlite3.sqlite_version_info)    # 버전정보 : (3, 37, 2)\n",
    "\n",
    "try:\n",
    "    # DB 연동\n",
    "    conn = sqlite3.connect('data/sqlite_db')    # DB생성 -> 연결\n",
    "    # sql 실행객체\n",
    "    cursor = conn.cursor()\n",
    "    # table 생성\n",
    "    sql = 'create table if not exists test_table (name text(10),phone text(15), addr text(50))'\n",
    "    # 실행\n",
    "    cursor.execute(sql)\n",
    "    ## 레코드 추가\n",
    "    # cursor.execute(\"insert into test_table values ('홍길동','010-1111-1111','산골짜기')\")\n",
    "    # cursor.execute(\"insert into test_table values ('이순신','010-9999-9999','해남시')\")\n",
    "    # cursor.execute(\"insert into test_table values ('강감찬','010-2222-2222','평양시')\")\n",
    "    # cursor.execute(\"insert into test_table values ('이성계','010-3333-3333','개성시')\")\n",
    "    # cursor.execute(\"insert into word_count values ('1', '산불','2번')\") \n",
    "    # conn.commit()   # DB반영\n",
    "    \n",
    "    ## 레코드 조회\n",
    "    cursor.execute(\"select * from test_table\")\n",
    "    rows = cursor.fetchall()    # 조회 레코드 읽기\n",
    "    # # 출력1\n",
    "    # for row in rows:\n",
    "    #     print(row)\n",
    "    # # 출력2\n",
    "    # print(\"이름 \\t 전화번호         주소\")\n",
    "    # for row in rows:\n",
    "    #     print(row[0],'\\t',row[1],'\\t',row[2])\n",
    "    # 메뉴를 사용하여 다음 코드를 작성하세요.\n",
    "    # (1. db출력, 2. db수정, 3. db삭제, 0. 종료)\n",
    "    ## name으로 입력값을 받아서 정보를 수정하는 코드 작성하세요\n",
    "    ## name을 입력받아서 레코드를 삭제하는 코드를 작성하세요    \n",
    "    while True:\n",
    "        \n",
    "        menu = input('메뉴를 선택하세요 : \\n1. db출력\\n2. db수정\\n3. db삭제\\n0. 종료 : ')\n",
    "        if menu == '0':\n",
    "            print('프로그램을 종료합니다.')\n",
    "            break\n",
    "        elif menu == '1':\n",
    "            cursor.execute(\"select * from test_table\")\n",
    "            rows = cursor.fetchall()\n",
    "            for row in rows:\n",
    "                print(row[0],'\\t',row[1],'\\t',row[2])\n",
    "        elif menu == '2':\n",
    "            name = input('이름을 입력하세요 : ')\n",
    "            s = cursor.execute(f\"select * from test_table where name = '{name}'\")\n",
    "            print(s,'중 수정할 내용을 입력하세요')\n",
    "            phone = input('전화번호 : ')\n",
    "            addr = input('주소 : ')\n",
    "            cursor.execute(f\"update test_table set phone='{phone}',addr='{addr}' where name='{name}'\")\n",
    "            conn.commit()\n",
    "        elif menu == '3':\n",
    "            s=cursor.execute(\"select * from test_table\")\n",
    "            print(s)\n",
    "            name = input('삭제할 이름을 입력하세요 : ')\n",
    "            cursor.execute(\"delete from test_table where='{name}'\")\n",
    "            conn.commit()\n",
    "        else : \n",
    "            print('메뉴를 잘못 선택하였습니다.')    \n",
    "\n",
    "except Exception as e:\n",
    "    print(\"DB연동 에러 : \",e)\n",
    "    conn.rollback()\n",
    "finally:\n",
    "    cursor.close()\n",
    "    conn.close()"
   ]
  }
 ],
 "metadata": {
  "interpreter": {
   "hash": "b89b5cfaba6639976dc87ff2fec6d58faec662063367e2c229c520fe71072417"
  },
  "kernelspec": {
   "display_name": "Python 3.10.3 64-bit",
   "language": "python",
   "name": "python3"
  },
  "language_info": {
   "codemirror_mode": {
    "name": "ipython",
    "version": 3
   },
   "file_extension": ".py",
   "mimetype": "text/x-python",
   "name": "python",
   "nbconvert_exporter": "python",
   "pygments_lexer": "ipython3",
   "version": "3.10.3"
  },
  "orig_nbformat": 4
 },
 "nbformat": 4,
 "nbformat_minor": 2
}
