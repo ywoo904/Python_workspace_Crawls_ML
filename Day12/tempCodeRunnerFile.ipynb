# 1. 단어와 출현 빈도수 만들기
words = []       # 단어
counts = []     # 출현 빈도수

for word,count in top5_word:
    words.append(word) 
    counts.append(count)
print(words)
print(counts)
