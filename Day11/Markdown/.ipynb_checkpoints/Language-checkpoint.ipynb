{
 "cells": [
  {
   "cell_type": "markdown",
   "metadata": {},
   "source": [
    "# MarkDown 사용법 총정리\n",
    "\n",
    "마크다운(MarkDown)에 대해서 알고 계신가요?\n",
    "파일 확자자가 .md 로 된 파일. \n",
    "\n",
    "사용법이 매우 쉽고, 빠르게 문서를 정리할 수 있음. \n",
    "HTML 마크업을 대신할 수 없어서 빠르게 작성하는 용도로 사용됨.\n"
   ]
  },
  {
   "cell_type": "markdown",
   "metadata": {},
   "source": [
    "## 마크다운의 장점\n",
    " 1. 문법이 쉽다\n",
    " 2. 관리가 쉽다\n",
    " 3. 지원 가능한 플랫폼과 프로그램이 다양하다\n",
    "\n",
    "## 마크 다운의 단점\n",
    " 1. 표준이 없어 사용자마다 문법이 상이할 수 있다.\n",
    " 2. 모든 HTML 마크업을 대신하지 못한다.\n",
    " \n",
    "## 마크다운의 사용\n",
    " 메모장부터 전용 에디터까지 많은 곳에서 활용이 가능하다. \n",
    " 문법이 쉽기 때문에 꼭 전용 에디터를 사용할 필요는 없다. \n",
    " 단, 마크다운 코드의 \"하이라이트\" 효과를 원한다면... 전용 에디터를 사용\n",
    " 마크다운을 지원하는 모든 곳에서 사용이 가능함. 일반 블로그나 워드 프레스 외 \n",
    " Slack이나 Trello 같은 서비스 화면에서도 메시지 작성하듯 사용이 가능함. \n",
    " 화면에 표현되는 스타일(CSS)은 설정에 따라서 달라질 수 있음. \n",
    " HTML과 마찮가지로 눈에 보이는 스타일은 무시하고, 각 문법의 의미로 사용해야 함.\n"
   ]
  },
  {
   "cell_type": "markdown",
   "metadata": {},
   "source": [
    "## 마크다운 문법(Syntax)"
   ]
  },
  {
   "cell_type": "markdown",
   "metadata": {},
   "source": [
    "### 제목(Header)\n",
    "  h1 ~ h6 까지 제목을 표현할 수 있음."
   ]
  },
  {
   "cell_type": "markdown",
   "metadata": {},
   "source": [
    "![title 제목 크기](/notebooks/Markdown/title1.png)\n",
    "\n",
    "제목 1(h1)과 제목2(h2)는 다음과 같이 표현할 수 있음. "
   ]
  },
  {
   "cell_type": "markdown",
   "metadata": {
    "raw_mimetype": "text/html"
   },
   "source": [
    "![title2 제목 2번째](/notebooks/Markdown/title2.png)"
   ]
  },
  {
   "cell_type": "markdown",
   "metadata": {},
   "source": [
    "### 강조(Emphasis)"
   ]
  },
  {
   "cell_type": "markdown",
   "metadata": {
    "raw_mimetype": "text/html"
   },
   "source": [
    "각 각 **&lt;em&gt; , &lt;strong&gt; , &lt;del&gt;** 태그로 변환.\n",
    "   \n",
    "밑줄을 입력하고 싶다면 &lt;u&gt;&lt;/u&gt; 태그를 사용"
   ]
  },
  {
   "cell_type": "markdown",
   "metadata": {},
   "source": [
    "![강조 Emphasis 이미지](/notebooks/Markdown/emphasis1.png)"
   ]
  },
  {
   "cell_type": "markdown",
   "metadata": {},
   "source": [
    "이텔릭체는 *별표m(asterisks)* 혹은 _언더바(underscore)_를 사용하세요.<br>\n",
    "두껍게는 **별표(asterisks)** 혹은 __언더바(underscore)__를 사용하세요.<br>\n",
    "**_이텔릭체_와 두껍게**를 같이 사용할 수 있습니다.<br>\n",
    "취소선은 ~~물결표시(tilde)~~를 사용하세요.<br>\n",
    "<u>밑줄</u>은 `<u></u>`를 사용하세요.<br>"
   ]
  },
  {
   "cell_type": "markdown",
   "metadata": {},
   "source": [
    "### 목록(List)"
   ]
  },
  {
   "cell_type": "markdown",
   "metadata": {},
   "source": [
    " **&lt;ol&gt;**, **&lt;ul&gt;** 목록 태그로 변환됩니다."
   ]
  },
  {
   "cell_type": "markdown",
   "metadata": {},
   "source": [
    "![list 사용이미지](/notebooks/Markdown/list1.png)"
   ]
  },
  {
   "cell_type": "markdown",
   "metadata": {},
   "source": [
    "**<실행 결과>**\n",
    "1. 순서가 필요한 목록\n",
    "1. 순서가 필요한 목록\n",
    "  - 순서가 필요하지 않은 목록 (서브)\n",
    "  - 순서가 필요하지 않은 목록 (서브)\n",
    "1. 순서가 필요한 목록\n",
    "  1. 순서가 필요한 목록 (서브)\n",
    "  1. 순서가 필요한 목록 (서브)\n",
    "1. 순서가 필요한 목록\n",
    "\n",
    "- 순서가 필요하지 않은 목록에 사용 가능한 기호\n",
    "  - 대쉬 (hyphen)\n",
    "  * 별표 (asterisks)\n",
    "  + 더하기 (plus sign)"
   ]
  },
  {
   "cell_type": "markdown",
   "metadata": {},
   "source": [
    "\n",
    "### 링크(Link)\n"
   ]
  },
  {
   "cell_type": "markdown",
   "metadata": {},
   "source": [
    "**&lt;a&gt;** 로 변환됩니다."
   ]
  },
  {
   "cell_type": "markdown",
   "metadata": {},
   "source": [
    "![link 이미지](/notebooks/Markdown/link1.png)\n",
    "\n",
    "\n",
    "\n"
   ]
  },
  {
   "cell_type": "markdown",
   "metadata": {},
   "source": [
    "[GOOGLE](https://google.com)\n",
    "\n",
    "[NAVER](https://naver.com \"링크 설명(title)을 작성하세요.\")\n",
    "\n",
    "[상대적 참조](../users/login)\n",
    "\n",
    "[Dribbble][Dribbble link]\n",
    "\n",
    "[GitHub][1]\n",
    "\n",
    "문서 안에서 [참조 링크]를 그대로 사용할 수도 있습니다.\n",
    "\n",
    "다음과 같이 문서 내 일반 URL이나 꺾쇠 괄호(`< >`, Angle Brackets)안의 URL은 자동으로 링크를 사용합니다.\n",
    "\n",
    "구글 홈페이지: https://google.com\n",
    "\n",
    "네이버 홈페이지: <https://naver.com>\n",
    "\n",
    "[Dribbble link]: https://dribbble.com\n",
    "\n",
    "[1]: https://github.com\n",
    "\n",
    "[참조 링크]: https://naver.com \"네이버로 이동합니다!\""
   ]
  },
  {
   "cell_type": "markdown",
   "metadata": {},
   "source": [
    "\n",
    "### 이미지(Image)"
   ]
  },
  {
   "cell_type": "markdown",
   "metadata": {},
   "source": [
    "**&lt;img&gt;** 로 변환됩니다. <br>\n",
    "링크와 비슷하지만 앞에 ! 가 붙습니다. "
   ]
  },
  {
   "cell_type": "markdown",
   "metadata": {},
   "source": [
    "![이미지 불러오는 마크다운](/notebooks/Markdown/image1.png)"
   ]
  },
  {
   "cell_type": "markdown",
   "metadata": {},
   "source": [
    "![대체 텍스트(alternative text)를 입력하세요!](http://www.gstatic.com/webp/gallery/5.jpg \"링크 설명(title)을 작성하세요.\")\n",
    "\n",
    "![Kayak][logo]\n",
    "\n",
    "[logo]: http://www.gstatic.com/webp/gallery/2.jpg \"To go kayaking.\""
   ]
  },
  {
   "cell_type": "markdown",
   "metadata": {},
   "source": [
    "\n",
    "### 이미지에 링크\n"
   ]
  },
  {
   "cell_type": "markdown",
   "metadata": {},
   "source": [
    "마크다운 이미지 코드를 링크 코드로 묶어 줍니다."
   ]
  },
  {
   "cell_type": "markdown",
   "metadata": {},
   "source": [
    "<html>\n",
    "    [![Vue] (/image/vue.png/)] (https://kr.vuejs.org/)\n",
    "</html>"
   ]
  },
  {
   "cell_type": "markdown",
   "metadata": {},
   "source": [
    "[![Vue](/notebooks/Markdown/vue.png)](https://kr.vuejs.org/)"
   ]
  },
  {
   "cell_type": "markdown",
   "metadata": {},
   "source": [
    "## 코드(Code) 강조"
   ]
  },
  {
   "cell_type": "markdown",
   "metadata": {},
   "source": [
    " **&lt;pre&gt;**, **&lt;code&gt;** 로 변환됨.<br>\n",
    " 숫자 1번 키 왼쪽에 있는 `(Grave)를 입력하세요"
   ]
  },
  {
   "cell_type": "markdown",
   "metadata": {},
   "source": [
    "\n",
    "### 인라인(inline) 코드 강조"
   ]
  },
  {
   "cell_type": "markdown",
   "metadata": {},
   "source": [
    "![인라인 코드 강조](/notebooks/Markdown/inline1.png)"
   ]
  },
  {
   "cell_type": "markdown",
   "metadata": {},
   "source": [
    "`background`혹은 `background-image` 속성으로 요소에 배경 이미지를 삽입할 수 있습니다."
   ]
  },
  {
   "cell_type": "markdown",
   "metadata": {},
   "source": [
    "\n",
    "### 블록(block) 코드 강조\n",
    "\n"
   ]
  },
  {
   "cell_type": "markdown",
   "metadata": {},
   "source": [
    "` 를 3번 이상 입력하고 코드 종류도 적어준다. "
   ]
  },
  {
   "cell_type": "markdown",
   "metadata": {
    "raw_mimetype": "text/html"
   },
   "source": [
    "![blockcode](/notebooks/Markdown/blockcode1.png)"
   ]
  },
  {
   "cell_type": "markdown",
   "metadata": {},
   "source": [
    "**HTML**\n",
    "\n",
    "\n",
    "&lt;a href=\"https://www.google.co.kr/\" target=\"_blank\"&gt;GOOGLE&lt;/a&gt;"
   ]
  },
  {
   "cell_type": "markdown",
   "metadata": {},
   "source": [
    "**CSS**\n",
    "\n",
    ".list > li {<br>\n",
    "&ensp;&ensp;position: absolute;<br>\n",
    "&ensp;&ensp;top: 40px;<br>\n",
    "}"
   ]
  },
  {
   "cell_type": "markdown",
   "metadata": {},
   "source": [
    "**JAVASCRIPT**\n",
    "\n",
    "function func() {<br>\n",
    "\t&ensp;\t&ensp;var a = 'AAA';<br>\n",
    "\t&ensp;\t&ensp;return a;<br>\n",
    "}<br>"
   ]
  },
  {
   "cell_type": "markdown",
   "metadata": {},
   "source": [
    "**BASH**\n",
    "\n",
    "$ vim ./~zshrc"
   ]
  },
  {
   "cell_type": "markdown",
   "metadata": {},
   "source": [
    "**PYTHON**\n",
    "\n",
    "s = \"Python syntax highlighting\"<br>\n",
    "print s"
   ]
  },
  {
   "cell_type": "markdown",
   "metadata": {},
   "source": [
    "**XML**\n",
    "\n",
    "No language indicated, so no syntax highlighting. <br>\n",
    "But let's throw in a <b>tag</b>."
   ]
  },
  {
   "cell_type": "markdown",
   "metadata": {},
   "source": [
    "\n",
    "  ## 표(Table)"
   ]
  },
  {
   "cell_type": "markdown",
   "metadata": {},
   "source": [
    "&lt;table&gt; 태그로 변환<br>\n",
    "헤더 셀을 구분할 때 3개 이상의 - (hyphen/dass) 기호가 필요하다.<br>\n",
    "헤더 셀을 구분하면서 : (Colons) 기호로 셀(열/칸) 안에 내용을 정렬할 수 있음.<br>\n",
    "가장 좌측과 가장 우측에 있는 | (vertical bar) 기호는 생략 가능함.<br>"
   ]
  },
  {
   "cell_type": "markdown",
   "metadata": {},
   "source": [
    "![테이블 설정 이미지](/notebooks/Markdown/table1.png)"
   ]
  },
  {
   "cell_type": "markdown",
   "metadata": {},
   "source": [
    "| 값 | 의미 | 기본값 |\n",
    "|---|:---:|---:|\n",
    "| `static` | 유형 (기준) 없음 / 배치 불가능 | `static` |\n",
    "| `relative` | 요소 자신을 기준으로 배치 |   |\n",
    "| `absolute` | 위치 상 부모 (조상)요소를 기준으로 배치 |  |\n",
    "| `fixed` | 브라우저 창을 기준으로 배치 |  |"
   ]
  },
  {
   "cell_type": "markdown",
   "metadata": {},
   "source": [
    " 값 | 의미 | 기본값 \n",
    "---|:---:|---:\n",
    "`static` | 유형 (기준) 없음 / 배치 불가능 | `static` \n",
    "`relative` | 요소 **자신**을 기준으로 배치 |   \n",
    "`absolute` | 위치 상 **_부모_ (조상)요소**를 기준으로 배치 |  \n",
    "`fixed` | **브라우저 창**을 기준으로 배치 |  "
   ]
  },
  {
   "cell_type": "markdown",
   "metadata": {},
   "source": [
    "## 인용문(BlockQuote)"
   ]
  },
  {
   "cell_type": "markdown",
   "metadata": {},
   "source": [
    "**&lt;blockquote&gt;** 태그로 변환됨."
   ]
  },
  {
   "cell_type": "markdown",
   "metadata": {},
   "source": [
    "![인용문 처리하기!!](/notebooks/Markdown/blockquote1.png)"
   ]
  },
  {
   "cell_type": "markdown",
   "metadata": {},
   "source": [
    "인용문(blockQuote)\n",
    "\n",
    "> 남의 말이나 글에서 직접 또는 간접으로 따온 문장.<br>\n",
    "> _(네이버 국어 사전)_\n",
    "\n",
    "BREAK!\n",
    "\n",
    "> 인용문을 작성하세요!\n",
    ">> 중첩된 인용문(nested blockquote)을 만들 수 있습니다.\n",
    ">>> 중중첩된 인용문 1\n",
    ">>> 중중첩된 인용문 2\n",
    ">>> 중중첩된 인용문 3"
   ]
  },
  {
   "cell_type": "markdown",
   "metadata": {},
   "source": [
    "\n",
    "## 원시 HTML(Raw HTML)"
   ]
  },
  {
   "cell_type": "markdown",
   "metadata": {},
   "source": [
    "마크다운 문법이 아닌 원시 HTML 문법을 사용할 수 있음."
   ]
  },
  {
   "cell_type": "markdown",
   "metadata": {},
   "source": [
    "![원시 HTML(Raw HTML)](/notebooks/Markdown/raw_html1.png)"
   ]
  },
  {
   "cell_type": "markdown",
   "metadata": {},
   "source": [
    "<u>마크다운에서 지원하지 않을 기능</u>을 사용할 때 유용하며 대부분 잘 동작함.\n",
    "\n",
    "<img width=\"150\" src=\"http://www.gstatic.com/webp/gallery/4.jpg\" alt=\"Prunus\" title=\"A Wild Cherry (Prunus avium)\">\n",
    "\n",
    "![Prunus](http://www.gstatic.com/webp/gallery/4.jpg)"
   ]
  },
  {
   "cell_type": "markdown",
   "metadata": {},
   "source": [
    "\n",
    "## 수평선(Horizontal Rule)"
   ]
  },
  {
   "cell_type": "markdown",
   "metadata": {},
   "source": [
    "각 기호를 3개 이상 입력."
   ]
  },
  {
   "cell_type": "markdown",
   "metadata": {},
   "source": [
    "![수평선](/notebooks/Markdown/Horizontal1.png)"
   ]
  },
  {
   "cell_type": "markdown",
   "metadata": {},
   "source": [
    "---\n",
    "(Hyphens)\n",
    "\n",
    "***\n",
    "(Asterisks)\n",
    "\n",
    "___\n",
    "(Underscores)"
   ]
  },
  {
   "cell_type": "markdown",
   "metadata": {},
   "source": [
    "\n",
    "## 줄바꿈(Line Breaks)"
   ]
  },
  {
   "cell_type": "markdown",
   "metadata": {},
   "source": [
    "![줄바꿈](/notebooks/Markdown/line1.png)"
   ]
  },
  {
   "cell_type": "markdown",
   "metadata": {},
   "source": [
    "동해물과 백두산이 마르고 닳도록<br>\n",
    "하느님이 보우하자 우리나라 만세<br>\n",
    "무궁화 삼천리 화려 강산<br>\n",
    "대한 사람 대한으로 길이 보전하세"
   ]
  }
 ],
 "metadata": {
  "celltoolbar": "Raw Cell Format",
  "kernelspec": {
   "display_name": "Python 3 (ipykernel)",
   "language": "python",
   "name": "python3"
  },
  "language_info": {
   "codemirror_mode": {
    "name": "ipython",
    "version": 3
   },
   "file_extension": ".py",
   "mimetype": "text/x-python",
   "name": "python",
   "nbconvert_exporter": "python",
   "pygments_lexer": "ipython3",
   "version": "3.9.7"
  },
  "latex_envs": {
   "LaTeX_envs_menu_present": true,
   "autoclose": false,
   "autocomplete": true,
   "bibliofile": "biblio.bib",
   "cite_by": "apalike",
   "current_citInitial": 1,
   "eqLabelWithNumbers": true,
   "eqNumInitial": 1,
   "hotkeys": {
    "equation": "Ctrl-E",
    "itemize": "Ctrl-I"
   },
   "labels_anchors": false,
   "latex_user_defs": false,
   "report_style_numbering": false,
   "user_envs_cfg": false
  },
  "nbTranslate": {
   "displayLangs": [
    "*"
   ],
   "hotkey": "alt-t",
   "langInMainMenu": true,
   "sourceLang": "en",
   "targetLang": "fr",
   "useGoogleTranslate": true
  },
  "toc": {
   "base_numbering": 1,
   "nav_menu": {},
   "number_sections": true,
   "sideBar": true,
   "skip_h1_title": false,
   "title_cell": "Table of Contents",
   "title_sidebar": "Contents",
   "toc_cell": false,
   "toc_position": {},
   "toc_section_display": true,
   "toc_window_display": true
  },
  "varInspector": {
   "cols": {
    "lenName": 16,
    "lenType": 16,
    "lenVar": 40
   },
   "kernels_config": {
    "python": {
     "delete_cmd_postfix": "",
     "delete_cmd_prefix": "del ",
     "library": "var_list.py",
     "varRefreshCmd": "print(var_dic_list())"
    },
    "r": {
     "delete_cmd_postfix": ") ",
     "delete_cmd_prefix": "rm(",
     "library": "var_list.r",
     "varRefreshCmd": "cat(var_dic_list()) "
    }
   },
   "types_to_exclude": [
    "module",
    "function",
    "builtin_function_or_method",
    "instance",
    "_Feature"
   ],
   "window_display": false
  }
 },
 "nbformat": 4,
 "nbformat_minor": 2
}
