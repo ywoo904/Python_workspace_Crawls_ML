{
 "cells": [
  {
   "cell_type": "code",
   "execution_count": 1,
   "metadata": {},
   "outputs": [
    {
     "name": "stdout",
     "output_type": "stream",
     "text": [
      "hello world\n"
     ]
    }
   ],
   "source": [
    "##파일 확장자를 파일명.ipynb \n",
    "##관련용어 \n",
    "\n",
    "# 1. 크롤링(Crawling)\n",
    "# 크롤링이란 웹을 탐색하는 컴퓨터 프로그램(크롤러)를 이용하여 여러 인터넷 웹사이트의 웹페이지 자료를 \n",
    "# 수집하여 분류하는 과정을 말함 \n",
    "\n",
    "# 2. 스크래핑(Scraping) \n",
    "# 스크래핑이란 웹사이트의 내용을 긁어다 원하는 형태로 가공하는 기술을 의미한다. 즉 웹사이트의 데이터를 수집하는 모든 작업을 의미함 (스크래핑>크롤링)\n",
    "\n",
    "# 3. 파싱(Parsing)\n",
    "# 파싱이란 어떤 페이지(문서, html 등)에서 내가 원하는 데이터를 특정 패턴이나 순서로 추출하여 정보를 가공하는 것을 말함. \n",
    "# 예로 html소스를 문자열로 수집하여 html 태그로 인식하도록 정보를 가공하여 html 단위별 분석이 가능하게 구성할 수 있음. \n",
    "\n"
   ]
  }
 ],
 "metadata": {
  "kernelspec": {
   "display_name": "Python 3 (ipykernel)",
   "language": "python",
   "name": "python3"
  },
  "language_info": {
   "codemirror_mode": {
    "name": "ipython",
    "version": 3
   },
   "file_extension": ".py",
   "mimetype": "text/x-python",
   "name": "python",
   "nbconvert_exporter": "python",
   "pygments_lexer": "ipython3",
   "version": "3.10.3"
  }
 },
 "nbformat": 4,
 "nbformat_minor": 2
}
