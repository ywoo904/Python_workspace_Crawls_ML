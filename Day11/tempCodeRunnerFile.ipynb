import urllib.request #웹에 통신 데이터를 요청하는 모듈 
from bs4 import BeautifulSoup  

##html source가져오기...(www.naver.com)
url='http://www.naver.com' 

resp= urllib.request.urlopen(url)
data= resp.read()   

## html parsing 
html =data.decode("utf-8") #byte-> 문서 
type(html) #str
soup= BeautifulSoup(html,"html.parser") # html 문서를 html 소스로 파싱  
type(soup)  

# 태그내용 가져오기 
# h1태그 가져오기 find() 메서드 사용과 직접참조  
h1= soup.find('h1')
print(h1)
print('-'*50)
print(h1.a)
print('-'*50)
print(h1.a.string)

#2.find_all()
h2s= soup.find_all('h2') 
print("-"*50)
print("h2태그 문자열들을 출력\n")
for h2 in h2s: 
    print(h2.string)