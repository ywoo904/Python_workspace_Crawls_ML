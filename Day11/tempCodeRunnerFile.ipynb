##파일 확장자를 파일명.ipynb 
print("hello world")