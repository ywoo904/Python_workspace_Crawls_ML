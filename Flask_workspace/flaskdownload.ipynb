{
 "cells": [
  {
   "cell_type": "code",
   "execution_count": 1,
   "metadata": {},
   "outputs": [
    {
     "name": "stdout",
     "output_type": "stream",
     "text": [
      "Collecting flask\n",
      "  Downloading Flask-2.1.2-py3-none-any.whl (95 kB)\n",
      "\u001b[2K     \u001b[90m━━━━━━━━━━━━━━━━━━━━━━━━━━━━━━━━━━━━━━━━\u001b[0m \u001b[32m95.2/95.2 KB\u001b[0m \u001b[31m4.7 MB/s\u001b[0m eta \u001b[36m0:00:00\u001b[0m\n",
      "\u001b[?25hCollecting itsdangerous>=2.0\n",
      "  Downloading itsdangerous-2.1.2-py3-none-any.whl (15 kB)\n",
      "Requirement already satisfied: Jinja2>=3.0 in /Library/Frameworks/Python.framework/Versions/3.10/lib/python3.10/site-packages (from flask) (3.1.1)\n",
      "Collecting Werkzeug>=2.0\n",
      "  Downloading Werkzeug-2.1.2-py3-none-any.whl (224 kB)\n",
      "\u001b[2K     \u001b[90m━━━━━━━━━━━━━━━━━━━━━━━━━━━━━━━━━━━━━━━\u001b[0m \u001b[32m224.9/224.9 KB\u001b[0m \u001b[31m9.9 MB/s\u001b[0m eta \u001b[36m0:00:00\u001b[0m\n",
      "\u001b[?25hCollecting click>=8.0\n",
      "  Downloading click-8.1.3-py3-none-any.whl (96 kB)\n",
      "\u001b[2K     \u001b[90m━━━━━━━━━━━━━━━━━━━━━━━━━━━━━━━━━━━━━━━━\u001b[0m \u001b[32m96.6/96.6 KB\u001b[0m \u001b[31m5.1 MB/s\u001b[0m eta \u001b[36m0:00:00\u001b[0m\n",
      "\u001b[?25hRequirement already satisfied: MarkupSafe>=2.0 in /Library/Frameworks/Python.framework/Versions/3.10/lib/python3.10/site-packages (from Jinja2>=3.0->flask) (2.1.1)\n",
      "Installing collected packages: Werkzeug, itsdangerous, click, flask\n",
      "Successfully installed Werkzeug-2.1.2 click-8.1.3 flask-2.1.2 itsdangerous-2.1.2\n",
      "Note: you may need to restart the kernel to use updated packages.\n"
     ]
    }
   ],
   "source": [
    "pip install flask"
   ]
  },
  {
   "cell_type": "code",
   "execution_count": 22,
   "metadata": {},
   "outputs": [
    {
     "name": "stdout",
     "output_type": "stream",
     "text": [
      " * Serving Flask app '__main__' (lazy loading)\n",
      " * Environment: production\n",
      "\u001b[31m   WARNING: This is a development server. Do not use it in a production deployment.\u001b[0m\n",
      "\u001b[2m   Use a production WSGI server instead.\u001b[0m\n",
      " * Debug mode: off\n"
     ]
    },
    {
     "name": "stderr",
     "output_type": "stream",
     "text": [
      " * Running on http://127.0.0.1:5000 (Press CTRL+C to quit)\n",
      "127.0.0.1 - - [12/May/2022 19:16:32] \"GET / HTTP/1.1\" 200 -\n",
      "127.0.0.1 - - [12/May/2022 19:16:32] \"\u001b[33mGET /docs/5.1/dist/css/bootstrap.min.css HTTP/1.1\u001b[0m\" 404 -\n",
      "127.0.0.1 - - [12/May/2022 19:16:32] \"GET /dashboard.css HTTP/1.1\" 200 -\n",
      "127.0.0.1 - - [12/May/2022 19:16:32] \"\u001b[33mGET /docs/5.1/dist/js/bootstrap.bundle.min.js HTTP/1.1\u001b[0m\" 404 -\n",
      "127.0.0.1 - - [12/May/2022 19:16:32] \"GET /dashboard.js HTTP/1.1\" 200 -\n",
      "127.0.0.1 - - [12/May/2022 19:16:33] \"\u001b[33mGET /docs/5.1/assets/img/favicons/favicon-32x32.png HTTP/1.1\u001b[0m\" 404 -\n",
      "127.0.0.1 - - [12/May/2022 19:16:33] \"\u001b[33mGET /docs/5.1/assets/img/favicons/favicon-16x16.png HTTP/1.1\u001b[0m\" 404 -\n",
      "127.0.0.1 - - [12/May/2022 19:16:33] \"\u001b[33mGET /docs/5.1/assets/img/favicons/favicon.ico HTTP/1.1\u001b[0m\" 404 -\n",
      "127.0.0.1 - - [12/May/2022 19:16:33] \"\u001b[33mGET /docs/5.1/assets/img/favicons/manifest.json HTTP/1.1\u001b[0m\" 404 -\n",
      "127.0.0.1 - - [12/May/2022 19:16:38] \"GET /login HTTP/1.1\" 200 -\n",
      "127.0.0.1 - - [12/May/2022 19:16:38] \"\u001b[33mGET /docs/5.1/dist/css/bootstrap.min.css HTTP/1.1\u001b[0m\" 404 -\n",
      "127.0.0.1 - - [12/May/2022 19:16:38] \"GET /dashboard.css HTTP/1.1\" 200 -\n",
      "127.0.0.1 - - [12/May/2022 19:16:38] \"\u001b[33mGET /docs/5.1/dist/js/bootstrap.bundle.min.js HTTP/1.1\u001b[0m\" 404 -\n",
      "127.0.0.1 - - [12/May/2022 19:16:38] \"GET /dashboard.js HTTP/1.1\" 200 -\n",
      "127.0.0.1 - - [12/May/2022 19:16:38] \"\u001b[33mGET /docs/5.1/assets/img/favicons/favicon-32x32.png HTTP/1.1\u001b[0m\" 404 -\n",
      "127.0.0.1 - - [12/May/2022 19:16:38] \"\u001b[33mGET /docs/5.1/assets/img/favicons/favicon-16x16.png HTTP/1.1\u001b[0m\" 404 -\n",
      "127.0.0.1 - - [12/May/2022 19:16:38] \"\u001b[33mGET /docs/5.1/assets/img/favicons/favicon.ico HTTP/1.1\u001b[0m\" 404 -\n",
      "127.0.0.1 - - [12/May/2022 19:16:39] \"\u001b[33mGET /docs/5.1/assets/img/favicons/manifest.json HTTP/1.1\u001b[0m\" 404 -\n",
      "127.0.0.1 - - [12/May/2022 19:16:41] \"\u001b[32mPOST /login HTTP/1.1\u001b[0m\" 302 -\n",
      "127.0.0.1 - - [12/May/2022 19:16:41] \"GET /test HTTP/1.1\" 200 -\n",
      "127.0.0.1 - - [12/May/2022 19:16:43] \"GET /login HTTP/1.1\" 200 -\n",
      "127.0.0.1 - - [12/May/2022 19:16:44] \"\u001b[33mGET /docs/5.1/assets/img/favicons/manifest.json HTTP/1.1\u001b[0m\" 404 -\n"
     ]
    }
   ],
   "source": [
    "from flask import Flask, redirect, url_for, render_template, request,session\n",
    "\n",
    "app = Flask(__name__) \n",
    "#a= False \n",
    "\n",
    "@app.route(\"/\")\n",
    "def home():\n",
    "    return render_template(\"index.html\")  \n",
    "\n",
    "@app.route(\"/login\", methods=[\"POST\",\"GET\"])\n",
    "def login():   \n",
    "    if request.method ==\"POST\": \n",
    "        user = request.form[\"nm\"]   \n",
    "        session[\"user\"]= user  \n",
    "        pwd = request.form[\"pw\"]\n",
    "        session[\"pwd\"] = pwd  \n",
    "        return redirect(url_for(\"user\")) \n",
    "    else:  \n",
    "        return render_template(\"login.html\")\n",
    "    \n",
    "@app.route(\"/user\")\n",
    "def user():\n",
    "    if  \n",
    "    return f\"<h1></h1>\"\n",
    "\n",
    "if __name__== \"__main__\" : \n",
    "    app.run()\n",
    "    \n",
    "#@app.route(\"/test\")\n",
    "#def test():\n",
    "#    return render_template(\"new.html\")\n",
    "#어떤 웹페이지를 만들던 extends 기능을 통해 base.html 을 상속(Inherit)할 수 있다. \n",
    "\n",
    "#@app.route(\"/<name>\")\n",
    "#def user(name): \n",
    "    #return f\"Hello {name}!\"\n",
    "#URL뒤에 \"(무엇을)\" 넣던 \"Hello(무엇)\"을 출력하겠다. \n",
    "\n",
    "#@app.route(\"/admin\")\n",
    "#def admin(): \n",
    "#    return redirect(url_for(\"user\",name=\"Admin!\"))\n"
   ]
  },
  {
   "cell_type": "code",
   "execution_count": null,
   "metadata": {},
   "outputs": [],
   "source": []
  },
  {
   "cell_type": "code",
   "execution_count": null,
   "metadata": {},
   "outputs": [],
   "source": []
  },
  {
   "cell_type": "code",
   "execution_count": null,
   "metadata": {},
   "outputs": [],
   "source": []
  }
 ],
 "metadata": {
  "interpreter": {
   "hash": "aee8b7b246df8f9039afb4144a1f6fd8d2ca17a180786b69acc140d282b71a49"
  },
  "kernelspec": {
   "display_name": "Python 3.10.3 64-bit",
   "language": "python",
   "name": "python3"
  },
  "language_info": {
   "codemirror_mode": {
    "name": "ipython",
    "version": 3
   },
   "file_extension": ".py",
   "mimetype": "text/x-python",
   "name": "python",
   "nbconvert_exporter": "python",
   "pygments_lexer": "ipython3",
   "version": "3.10.3"
  },
  "orig_nbformat": 4
 },
 "nbformat": 4,
 "nbformat_minor": 2
}
