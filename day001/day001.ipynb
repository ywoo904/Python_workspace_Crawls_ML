{
 "cells": [
  {
   "cell_type": "code",
   "execution_count": 30,
   "metadata": {},
   "outputs": [
    {
     "ename": "FileNotFoundError",
     "evalue": "[Errno 2] No such file or directory: '/Users/wyattwoo/Desktop/Python_Workspace/Python_Workspace/day001/download/test_download.png'",
     "output_type": "error",
     "traceback": [
      "\u001b[0;31m---------------------------------------------------------------------------\u001b[0m",
      "\u001b[0;31mFileNotFoundError\u001b[0m                         Traceback (most recent call last)",
      "\u001b[1;32m/Users/wyattwoo/Desktop/Python_Workspace/Python_Workspace/day001 /day001.ipynb Cell 1'\u001b[0m in \u001b[0;36m<cell line: 19>\u001b[0;34m()\u001b[0m\n\u001b[1;32m     <a href='vscode-notebook-cell:/Users/wyattwoo/Desktop/Python_Workspace/Python_Workspace/day001%20/day001.ipynb#ch0000000?line=15'>16</a>\u001b[0m savename\u001b[39m=\u001b[39m \u001b[39m\"\u001b[39m\u001b[39mtest_download.png\u001b[39m\u001b[39m\"\u001b[39m\n\u001b[1;32m     <a href='vscode-notebook-cell:/Users/wyattwoo/Desktop/Python_Workspace/Python_Workspace/day001%20/day001.ipynb#ch0000000?line=17'>18</a>\u001b[0m \u001b[39m# 다운로드 \u001b[39;00m\n\u001b[0;32m---> <a href='vscode-notebook-cell:/Users/wyattwoo/Desktop/Python_Workspace/Python_Workspace/day001%20/day001.ipynb#ch0000000?line=18'>19</a>\u001b[0m urllib\u001b[39m.\u001b[39;49mrequest\u001b[39m.\u001b[39;49murlretrieve(url,\u001b[39m\"\u001b[39;49m\u001b[39m/Users/wyattwoo/Desktop/Python_Workspace/Python_Workspace/day001/download/\u001b[39;49m\u001b[39m\"\u001b[39;49m\u001b[39m+\u001b[39;49m savename) \n\u001b[1;32m     <a href='vscode-notebook-cell:/Users/wyattwoo/Desktop/Python_Workspace/Python_Workspace/day001%20/day001.ipynb#ch0000000?line=20'>21</a>\u001b[0m \u001b[39m# 네이버 로고를 다운로드 해보자 \u001b[39;00m\n\u001b[1;32m     <a href='vscode-notebook-cell:/Users/wyattwoo/Desktop/Python_Workspace/Python_Workspace/day001%20/day001.ipynb#ch0000000?line=21'>22</a>\u001b[0m url1 \u001b[39m=\u001b[39m \u001b[39m\"\u001b[39m\u001b[39mhttp://s.pstatic.net/static/www/mobile/edit/20220503/mobile_20183742258.gif\u001b[39m\u001b[39m\"\u001b[39m\n",
      "File \u001b[0;32m/Library/Frameworks/Python.framework/Versions/3.10/lib/python3.10/urllib/request.py:251\u001b[0m, in \u001b[0;36murlretrieve\u001b[0;34m(url, filename, reporthook, data)\u001b[0m\n\u001b[1;32m    <a href='file:///Library/Frameworks/Python.framework/Versions/3.10/lib/python3.10/urllib/request.py?line=248'>249</a>\u001b[0m \u001b[39m# Handle temporary file setup.\u001b[39;00m\n\u001b[1;32m    <a href='file:///Library/Frameworks/Python.framework/Versions/3.10/lib/python3.10/urllib/request.py?line=249'>250</a>\u001b[0m \u001b[39mif\u001b[39;00m filename:\n\u001b[0;32m--> <a href='file:///Library/Frameworks/Python.framework/Versions/3.10/lib/python3.10/urllib/request.py?line=250'>251</a>\u001b[0m     tfp \u001b[39m=\u001b[39m \u001b[39mopen\u001b[39;49m(filename, \u001b[39m'\u001b[39;49m\u001b[39mwb\u001b[39;49m\u001b[39m'\u001b[39;49m)\n\u001b[1;32m    <a href='file:///Library/Frameworks/Python.framework/Versions/3.10/lib/python3.10/urllib/request.py?line=251'>252</a>\u001b[0m \u001b[39melse\u001b[39;00m:\n\u001b[1;32m    <a href='file:///Library/Frameworks/Python.framework/Versions/3.10/lib/python3.10/urllib/request.py?line=252'>253</a>\u001b[0m     tfp \u001b[39m=\u001b[39m tempfile\u001b[39m.\u001b[39mNamedTemporaryFile(delete\u001b[39m=\u001b[39m\u001b[39mFalse\u001b[39;00m)\n",
      "\u001b[0;31mFileNotFoundError\u001b[0m: [Errno 2] No such file or directory: '/Users/wyattwoo/Desktop/Python_Workspace/Python_Workspace/day001/download/test_download.png'"
     ]
    }
   ],
   "source": [
    "#웹상의 정보수집 방법 \n",
    "# 파이썬 urllib 모듈을 사용하여 정보수집 \n",
    "\n",
    "## urllib.request 모듈은 웹사이트에 있는 데이터에 접근할 수 있는 기능을 제공 \n",
    "# 인증, 리다이렉트, 쿠키처럼 인터넷을 이용한 다양한 요청과 처리를 지원함 \n",
    "\n",
    "# 파일다운로드, urllib.request 모듈의 urlretrieve() 함수를 사용 \n",
    "# 직접 다운로드 가능 \n",
    "\n",
    "# 예시\n",
    "# 라이브러리 \n",
    "import urllib.request\n",
    "\n",
    "# 접속경로 및 저장이름 \n",
    "url = \"https://uta.pw/shodou/img/28/214.png\" \n",
    "savename= \"test_download.png\"\n",
    "\n",
    "# 다운로드 \n",
    "urllib.request.urlretrieve(url,\"/Users/wyattwoo/Desktop/Python_Workspace/Python_Workspace/day001/download/\"+ savename) \n",
    "\n",
    "# 네이버 로고를 다운로드 해보자 \n",
    "url1 = \"http://s.pstatic.net/static/www/mobile/edit/20220503/mobile_20183742258.gif\"\n",
    "savename1= \"naver_logo.gif\"\n",
    "urllib.request.urlretrieve(url1,\"download\\\\\"+ savename1) \n",
    "\n",
    "\n",
    "import os \n",
    "print(os.getcwd())\n",
    "\n",
    "\n",
    "\n",
    "\n",
    "\n",
    "\n"
   ]
  },
  {
   "cell_type": "code",
   "execution_count": 31,
   "metadata": {},
   "outputs": [
    {
     "name": "stdout",
     "output_type": "stream",
     "text": [
      "/Users/wyattwoo/Desktop/Python_Workspace/Python_Workspace/day001 \n"
     ]
    }
   ],
   "source": [
    "import os \n",
    "print(os.getcwd())\n"
   ]
  }
 ],
 "metadata": {
  "interpreter": {
   "hash": "aee8b7b246df8f9039afb4144a1f6fd8d2ca17a180786b69acc140d282b71a49"
  },
  "kernelspec": {
   "display_name": "Python 3.10.3 64-bit",
   "language": "python",
   "name": "python3"
  },
  "language_info": {
   "codemirror_mode": {
    "name": "ipython",
    "version": 3
   },
   "file_extension": ".py",
   "mimetype": "text/x-python",
   "name": "python",
   "nbconvert_exporter": "python",
   "pygments_lexer": "ipython3",
   "version": "3.10.3"
  },
  "orig_nbformat": 4
 },
 "nbformat": 4,
 "nbformat_minor": 2
}
