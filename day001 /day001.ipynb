{
 "cells": [
  {
   "cell_type": "code",
   "execution_count": 39,
   "metadata": {},
   "outputs": [
    {
     "data": {
      "text/plain": [
       "('/Users/wyattwoo/Desktop/Python_Workspace/Python_Workspace/day001/download/naver_logo.gif',\n",
       " <http.client.HTTPMessage at 0x107d69510>)"
      ]
     },
     "execution_count": 39,
     "metadata": {},
     "output_type": "execute_result"
    }
   ],
   "source": [
    "#웹상의 정보수집 방법 \n",
    "# 파이썬 urllib 모듈을 사용하여 정보수집 \n",
    "\n",
    "## urllib.request 모듈은 웹사이트에 있는 데이터에 접근할 수 있는 기능을 제공 \n",
    "# 인증, 리다이렉트, 쿠키처럼 인터넷을 이용한 다양한 요청과 처리를 지원함 \n",
    "\n",
    "# 파일다운로드, urllib.request 모듈의 urlretrieve() 함수를 사용 \n",
    "# 직접 다운로드 가능 \n",
    "\n",
    "# 예시\n",
    "# 라이브러리 \n",
    "import urllib.request\n",
    "\n",
    "# 접속경로 및 저장이름 \n",
    "url = \"https://uta.pw/shodou/img/28/214.png\" \n",
    "savename= \"test_download.png\"\n",
    "\n",
    "# 다운로드 \n",
    "urllib.request.urlretrieve(url,\"/Users/wyattwoo/Desktop/Python_Workspace/Python_Workspace/day001/download/\"+savename) \n",
    "\n",
    "# 네이버 로고를 다운로드 해보자 \n",
    "url1 = \"http://s.pstatic.net/static/www/mobile/edit/20220503/mobile_20183742258.gif\"\n",
    "savename1= \"naver_logo.gif\"\n",
    "urllib.request.urlretrieve(url1,\"/Users/wyattwoo/Desktop/Python_Workspace/Python_Workspace/day001/download/\"+savename1) \n",
    "\n",
    "\n",
    "\n",
    "\n",
    "\n"
   ]
  },
  {
   "cell_type": "code",
   "execution_count": 50,
   "metadata": {},
   "outputs": [
    {
     "name": "stdout",
     "output_type": "stream",
     "text": [
      "<class 'bytes'>\n",
      "download에 네이버 로고를 저장합니다.\n"
     ]
    }
   ],
   "source": [
    "# 실습2 \n",
    "# Naver 로고 다운받기 ... open 을 이용한 다운로드  \n",
    "# 저장파일명: naver_log_open_use.확장자 \n",
    "\n",
    "# 라이브러리 import \n",
    "import urllib.request as rq\n",
    "\n",
    "# urlopen을 이용하여 데이터를 저장(버퍼) \n",
    "url = \"https://s.pstatic.net/static/www/mobile/edit/20220503/mobile_20185184399.png\"\n",
    "buffer = rq.urlopen(url).read()\n",
    "print(type(buffer)) #데이터를 byte로 리턴한다. \n",
    "\n",
    "# 저장된 내용을 open을 이용하여 저장 (Open, 작업, close) 또는 With***  (binary값으로 처리 : b )\n",
    "#f = open(\"/Users/wyattwoo/Desktop/Python_Workspace/Python_Workspace/day001/download/naver_log_open_use.png\",\"wt\")\n",
    "#f.close() \n",
    "\n",
    "# os 명령문을 활용한 파일의 경로파악하기 \n",
    "# import os \n",
    "# print(os.getcwd())\n",
    "\n",
    "with open(\"/Users/wyattwoo/Desktop/Python_Workspace/Python_Workspace/day001/download/naver_log_open_use.png\",\"wb\") as f: \n",
    "    f.write(buffer)                                                                    # wb: 파일이 없으면 만들고 있으면 새롭게 만든다 \n",
    "    print(\"download에 네이버 로고를 저장합니다.\")                                   "
   ]
  },
  {
   "cell_type": "code",
   "execution_count": null,
   "metadata": {},
   "outputs": [],
   "source": []
  }
 ],
 "metadata": {
  "interpreter": {
   "hash": "aee8b7b246df8f9039afb4144a1f6fd8d2ca17a180786b69acc140d282b71a49"
  },
  "kernelspec": {
   "display_name": "Python 3.10.3 64-bit",
   "language": "python",
   "name": "python3"
  },
  "language_info": {
   "codemirror_mode": {
    "name": "ipython",
    "version": 3
   },
   "file_extension": ".py",
   "mimetype": "text/x-python",
   "name": "python",
   "nbconvert_exporter": "python",
   "pygments_lexer": "ipython3",
   "version": "3.10.3"
  },
  "orig_nbformat": 4
 },
 "nbformat": 4,
 "nbformat_minor": 2
}
