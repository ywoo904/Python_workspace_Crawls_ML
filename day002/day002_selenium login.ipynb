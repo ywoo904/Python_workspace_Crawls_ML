{
 "cells": [
  {
   "cell_type": "code",
   "execution_count": 9,
   "metadata": {},
   "outputs": [
    {
     "name": "stderr",
     "output_type": "stream",
     "text": [
      "Some characters could not be decoded, and were replaced with REPLACEMENT CHARACTER.\n"
     ]
    },
    {
     "name": "stdout",
     "output_type": "stream",
     "text": [
      "[]\n"
     ]
    }
   ],
   "source": [
    "#야후파이낸스 뉴스가져오기 \n",
    "from bs4 import BeautifulSoup \n",
    "import urllib.request as req \n",
    "\n",
    "url= \"https://finance.yahoo.com/topic/stock-market-news/\"\n",
    "\n",
    "res = req.urlopen(url).read() \n",
    "\n",
    "soup= BeautifulSoup(res,\"html.parser\")\n",
    "\n",
    "news_titles= soup.select(\"div.Fin-Stream\")\n",
    "\n",
    "titles= [] \n",
    "for news_title in news_titles: \n",
    "    titles.append(newstitle.string) \n",
    "print(titles)\n",
    "\n",
    "\n"
   ]
  }
 ],
 "metadata": {
  "interpreter": {
   "hash": "aee8b7b246df8f9039afb4144a1f6fd8d2ca17a180786b69acc140d282b71a49"
  },
  "kernelspec": {
   "display_name": "Python 3.10.3 64-bit",
   "language": "python",
   "name": "python3"
  },
  "language_info": {
   "name": "python",
   "version": "3.10.3"
  },
  "orig_nbformat": 4
 },
 "nbformat": 4,
 "nbformat_minor": 2
}
