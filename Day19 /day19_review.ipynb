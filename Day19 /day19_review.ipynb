{
 "cells": [
  {
   "cell_type": "code",
   "execution_count": 4,
   "metadata": {},
   "outputs": [
    {
     "name": "stdout",
     "output_type": "stream",
     "text": [
      "table 있음, (('goods',),)\n"
     ]
    }
   ],
   "source": [
    "import pymysql\n",
    "\n",
    "config= { \n",
    "         'host': '127.0.0.1',\n",
    "         'user':'scott',\n",
    "         'password': '1234',\n",
    "         'database': 'work', \n",
    "         'port': 3306, \n",
    "         'charset': 'utf8',\n",
    "         'use_unicode': True          \n",
    "         } \n",
    "\n",
    "try: \n",
    "    #커넥션 객체생성 \n",
    "    conn= pymysql.connect(**config)\n",
    "    cursor= conn.cursor() \n",
    "    sql= \"show tables\" \n",
    "    cursor.execute(sql)  \n",
    "    tables= cursor.fetchall()\n",
    "    \n",
    "    if tables:\n",
    "        print(\"table 있음,\",tables)\n",
    "    else: \n",
    "        print(\"table 없음 \")\n",
    "    \n",
    "\n",
    "except Exception as e:\n",
    "    print(\"DB연동에러발생\",e)\n",
    "    conn.rollback() \n",
    "\n",
    "finally: \n",
    "    cursor.close() \n",
    "    conn.close() "
   ]
  },
  {
   "cell_type": "code",
   "execution_count": null,
   "metadata": {},
   "outputs": [],
   "source": [
    "import pymysql \n",
    "config= { \n",
    "      'host':   \n",
    "         \n",
    "         "
   ]
  }
 ],
 "metadata": {
  "interpreter": {
   "hash": "aee8b7b246df8f9039afb4144a1f6fd8d2ca17a180786b69acc140d282b71a49"
  },
  "kernelspec": {
   "display_name": "Python 3.10.3 64-bit",
   "language": "python",
   "name": "python3"
  },
  "language_info": {
   "codemirror_mode": {
    "name": "ipython",
    "version": 3
   },
   "file_extension": ".py",
   "mimetype": "text/x-python",
   "name": "python",
   "nbconvert_exporter": "python",
   "pygments_lexer": "ipython3",
   "version": "3.10.3"
  },
  "orig_nbformat": 4
 },
 "nbformat": 4,
 "nbformat_minor": 2
}
