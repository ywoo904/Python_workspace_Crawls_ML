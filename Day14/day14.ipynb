{
 "cells": [
  {
   "cell_type": "code",
   "execution_count": null,
   "metadata": {},
   "outputs": [],
   "source": [
    "##텍스트 처리\n",
    "#비정형 자료를 수집한 경우 오랍르지 않은 문장이 포함될 수 있다.올바른 문자만 선택하는 텍스트 전처리 과정\n"
   ]
  }
 ],
 "metadata": {
  "language_info": {
   "name": "python"
  },
  "orig_nbformat": 4
 },
 "nbformat": 4,
 "nbformat_minor": 2
}
