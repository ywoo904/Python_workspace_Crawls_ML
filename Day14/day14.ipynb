{
 "cells": [
  {
   "cell_type": "code",
   "execution_count": 2,
   "metadata": {},
   "outputs": [
    {
     "name": "stdout",
     "output_type": "stream",
     "text": [
      "['http://www.naver.com', 'http://www.daum.net', 'www.hongildong.com']\n"
     ]
    },
    {
     "ename": "NameError",
     "evalue": "name 'pattern' is not defined",
     "output_type": "error",
     "traceback": [
      "\u001b[0;31m---------------------------------------------------------------------------\u001b[0m",
      "\u001b[0;31mNameError\u001b[0m                                 Traceback (most recent call last)",
      "\u001b[1;32m/Users/wyattwoo/Desktop/Python_Workspace/Python_Workspace/Day14/day14.ipynb Cell 1'\u001b[0m in \u001b[0;36m<cell line: 20>\u001b[0;34m()\u001b[0m\n\u001b[1;32m     <a href='vscode-notebook-cell:/Users/wyattwoo/Desktop/Python_Workspace/Python_Workspace/Day14/day14.ipynb#ch0000000?line=16'>17</a>\u001b[0m \u001b[39mprint\u001b[39m(web_site) \n\u001b[1;32m     <a href='vscode-notebook-cell:/Users/wyattwoo/Desktop/Python_Workspace/Python_Workspace/Day14/day14.ipynb#ch0000000?line=18'>19</a>\u001b[0m \u001b[39m# 패턴객체 만들기 \u001b[39;00m\n\u001b[0;32m---> <a href='vscode-notebook-cell:/Users/wyattwoo/Desktop/Python_Workspace/Python_Workspace/Day14/day14.ipynb#ch0000000?line=19'>20</a>\u001b[0m pat\u001b[39m=\u001b[39m \u001b[39mcompile\u001b[39m(pattern,)\n",
      "\u001b[0;31mNameError\u001b[0m: name 'pattern' is not defined"
     ]
    }
   ],
   "source": [
    "##텍스트 처리\n",
    "#비정형 자료를 수집한 경우 오랍르지 않은 문장이 포함될 수 있다.올바른 문자만 선택하는 텍스트 전처리 과정\n",
    "# 예) 도메인 주소의 http:// 으로 시작되지 않는 주소를 비정상 자료로 가정하여 수집된 자료 제외하는 예시  \n",
    "# 수집된 자료 제외하는 예시\n",
    "\n",
    "# 텍스트 자료 \n",
    "multi_line=\"\"\"http://www.naver.com\n",
    "http://www.daum.net\n",
    "www.hongildong.com\"\"\" #www.hongildong.com은 비정상 자료로 간주\n",
    "\n",
    "import re #Regular Expression \n",
    "from re import split, compile, match \n",
    "# match: 내가 사용하는 패턴과 일치하도록 \n",
    "\n",
    "# 구분자를 사용한 문자열 분리 split() \n",
    "web_site= split(\"\\n\",multi_line) #split(pattern,string) \n",
    "print(web_site) #['http://www.naver.com', 'http://www.daum.net', 'www.hongildong.com']\n",
    "\n",
    "# 패턴객체 만들기 \n",
    "pat= compile(\"http://\") #pat 객체생성\n",
    "bool(None)\n",
    "\n",
    "\n",
    "\n",
    "\n",
    "\n"
   ]
  }
 ],
 "metadata": {
  "interpreter": {
   "hash": "aee8b7b246df8f9039afb4144a1f6fd8d2ca17a180786b69acc140d282b71a49"
  },
  "kernelspec": {
   "display_name": "Python 3.10.3 64-bit",
   "language": "python",
   "name": "python3"
  },
  "language_info": {
   "codemirror_mode": {
    "name": "ipython",
    "version": 3
   },
   "file_extension": ".py",
   "mimetype": "text/x-python",
   "name": "python",
   "nbconvert_exporter": "python",
   "pygments_lexer": "ipython3",
   "version": "3.10.3"
  },
  "orig_nbformat": 4
 },
 "nbformat": 4,
 "nbformat_minor": 2
}
