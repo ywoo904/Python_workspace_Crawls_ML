##텍스트 처리
#비정형 자료를 수집한 경우 오랍르지 않은 문장이 포함될 수 있다.올바른 문자만 선택하는 텍스트 전처리 과정
# 예) 도메인 주소의 http:// 으로 시작되지 않는 주소를 비정상 자료로 가정하여 수집된 자료 제외하는 예시  
# 수집된 자료 제외하는 예시

# 텍스트 자료 
multi_line="""http://www.naver.com
http://www.daum.net
www.hongildong.com""" #www.hongildong.com은 비정상 자료로 간주

import re #Regular Expression 
from re import split, compile, match 
# match: 내가 사용하는 패턴과 일치하도록 

# 구분자를 사용한 문자열 분리 split() 
web_site= split("\n",multi_line) #split(pattern,string) 
print(web_site) #['http://www.naver.com', 'http://www.daum.net', 'www.hongildong.com']

# 패턴객체 만들기 
pat= compile("http://") #pat 객체생성
bool(None)



