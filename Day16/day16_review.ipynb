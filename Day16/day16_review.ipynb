{
 "cells": [
  {
   "cell_type": "code",
   "execution_count": null,
   "metadata": {},
   "outputs": [],
   "source": [
    "#스코어 파일 읽어 총점과 평균 추가하기\n",
    "import pandas as pd \n",
    "score= pd.read_csv('data/data/score.csv')\n",
    "\n",
    "#dataframe에서 형태 그대로 사칙연산이 가능\n",
    "total= score['kor']+ score['eng']+ score['mat']\n",
    "print(total)\n",
    "\n",
    "score['total']= total\n",
    "print(score)\n",
    "\n",
    "score['avg']= total/3 \n",
    "print(round(score,2))"
   ]
  },
  {
   "cell_type": "code",
   "execution_count": null,
   "metadata": {},
   "outputs": [],
   "source": [
    "import pandas as pd\n",
    "# 딕셔너리(Value값이 list)\n",
    "jumsu=  { \n",
    "'홍길동' : [50,60,50], \n",
    "'이순신' : [60,60,60],\n",
    "'강감찬' : [100,90,90], \n",
    "'유관순' : [80,80,90],\n",
    "'강환석' : [95,95,95]\n",
    "}  \n",
    "\n",
    "#이름(name_s), 각 리스트 0번은 국어(kor_S), 리스트 1번은 영어(eng_S),\n",
    "#리스트 2번은 수학(math_s) \n",
    "\n",
    "#List -> Series \n",
    "na= pd.Series([key for key in jumsu] ) \n",
    "kor=pd.Series([jumsu[key][0] for key in jumsu])\n",
    "eng=pd.Series([jumsu[key][1] for key in jumsu])\n",
    "mat=pd.Series([jumsu[key][2] for key in jumsu]) \n",
    "\n",
    "print(na,kor,eng,mat)\n",
    "#pd.DataFrame() \n",
    "#여러 시리즈를 한번에 합쳐주는 기능을 한다.  \n",
    "score= pd.DataFrame({'이름':na,'국어':kor,'영어':eng,'수학':mat})\n",
    "print(score)\n",
    "\n",
    "#국영수 합계 시리즈 생성 \n",
    "total= score['국어'] + score['영어']+ score['수학']\n",
    "print(total) \n",
    "\n",
    "#국영수 평균 시리즈 생성 \n",
    "avg= round(total/3,2) \n",
    "\n",
    "score['total'] = total \n",
    "score\n",
    "score['avg'] = avg\n",
    "score"
   ]
  },
  {
   "cell_type": "code",
   "execution_count": 37,
   "metadata": {},
   "outputs": [
    {
     "name": "stdout",
     "output_type": "stream",
     "text": [
      "홍길동     [50, 60, 50]\n",
      "이순신     [60, 60, 60]\n",
      "강감찬    [100, 90, 90]\n",
      "유관순     [80, 80, 90]\n",
      "강환석     [95, 95, 95]\n",
      "dtype: object <class 'pandas.core.series.Series'>\n",
      "Index(['홍길동', '이순신', '강감찬', '유관순', '강환석'], dtype='object')\n",
      "s1_jumsu: 홍길동     [50, 60, 50]\n",
      "이순신     [60, 60, 60]\n",
      "강감찬    [100, 90, 90]\n",
      "유관순     [80, 80, 90]\n",
      "강환석     [95, 95, 95]\n",
      "dtype: object\n",
      "-홍길동---이순신---강감찬---유관순---강환석--\n",
      "[50, 60, 50]\n",
      "[60, 60, 60]\n",
      "[100, 90, 90]\n",
      "[80, 80, 90]\n",
      "[95, 95, 95]\n"
     ]
    }
   ],
   "source": [
    "'''\n",
    "다음의 보기 자료를 딕셔너리를 기초자료로 s1_jumsu 시리즈를 만드세요.\n",
    "s1_jumsu 시리즈는 데이터(요소)가 평균이고 인덱스가 이름으로 구성되도록 하세요.\n",
    "Series 를 만들면 이것을 <실행결과> 와 같이 출력하세요 \n",
    "\n",
    "<보기>  \n",
    "jumsu=  { \n",
    "'홍길동' : [50,60,50], \n",
    "'이순신' : [60,60,60],\n",
    "'강감찬' : [100,90,90], \n",
    "'유관순' : [80,80,90],\n",
    "'강환석' : [95,95,95]\n",
    "}  \n",
    "\n",
    "<실행결과> \n",
    "-홍길동---이순신---강감찬---유관순---강환석- \n",
    "-53.33점--60.00점--93.33점--83.33점--95.00점 \n",
    "''' \n",
    "jumsu=  { \n",
    "'홍길동' : [50,60,50], \n",
    "'이순신' : [60,60,60],\n",
    "'강감찬' : [100,90,90], \n",
    "'유관순' : [80,80,90],\n",
    "'강환석' : [95,95,95]\n",
    "}   \n",
    "\n",
    "s1_jumsu= pd.Series(jumsu)\n",
    "print(s1_jumsu, type(s1_jumsu))\n",
    "print(s1_jumsu.index)\n",
    "print(\"s1_jumsu:\",s1_jumsu)\n",
    "\n",
    "for i in s1_jumsu.index: \n",
    "    print('-'+i+\"-\",end='-')\n",
    "print() \n",
    "\n",
    "import numpy as np \n",
    "\n",
    "# 시리즈 => 리스트의 기능을 하기 때문에 하나하나 반복할 때 리스트를 Return 해서 numpy.mean 함수가 기능할 수 있는 것이다 . \n",
    "for j in s1_jumsu: \n",
    "    print(j)\n",
    "    #print(\"-{:.2f}점-\".format(np.mean(j)), end= \"-\")\n",
    "    # np.mean(홍길동 [50,60,50]) \n",
    "    # numpy => \n"
   ]
  },
  {
   "cell_type": "code",
   "execution_count": null,
   "metadata": {},
   "outputs": [],
   "source": []
  }
 ],
 "metadata": {
  "interpreter": {
   "hash": "aee8b7b246df8f9039afb4144a1f6fd8d2ca17a180786b69acc140d282b71a49"
  },
  "kernelspec": {
   "display_name": "Python 3.10.3 64-bit",
   "language": "python",
   "name": "python3"
  },
  "language_info": {
   "codemirror_mode": {
    "name": "ipython",
    "version": 3
   },
   "file_extension": ".py",
   "mimetype": "text/x-python",
   "name": "python",
   "nbconvert_exporter": "python",
   "pygments_lexer": "ipython3",
   "version": "3.10.3"
  },
  "orig_nbformat": 4
 },
 "nbformat": 4,
 "nbformat_minor": 2
}
