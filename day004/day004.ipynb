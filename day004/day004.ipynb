{
 "cells": [
  {
   "cell_type": "code",
   "execution_count": 4,
   "metadata": {},
   "outputs": [
    {
     "data": {
      "text/plain": [
       "numpy.ndarray"
      ]
     },
     "execution_count": 4,
     "metadata": {},
     "output_type": "execute_result"
    }
   ],
   "source": [
    "## NumPy: 과학, 수치 등에 대한 통계(데이터분석)\n",
    "# 고성능 수치계산을 위해 제작된 라이브러리\n",
    "# 머신러닝, 딥러닝 알고리즘은 기본적으로 다차원 배열에 대한 계산을 볼 수 있음. \n",
    "# 또는 대량 데이터를 다룰 때에 빠른 계산능력이 요구되어 사용되는 라이브러리 \n",
    "# 다차원배열, 대용량에 적합한 사이트 \n",
    "\n",
    "# 생성된 Numpy 확인- NumPy 핵심객체(Ndarray) \n",
    "import numpy as np\n",
    "temp= np.array([1,2,3])\n",
    "print(type(temp)) # numpy.ndarray\n",
    "\n",
    "# 튜토리얼: https://numpy.org/doc/stable/user/quickstart.html"
   ]
  },
  {
   "cell_type": "code",
   "execution_count": 29,
   "metadata": {},
   "outputs": [
    {
     "name": "stdout",
     "output_type": "stream",
     "text": [
      "[1 2 3]\n",
      "(3,)\n",
      "[1 1 2 2 3 4]\n",
      "(6,)\n",
      "[3 4 5 7]\n",
      "int64\n",
      "[[ 2  4  6]\n",
      " [ 8 10 12]\n",
      " [14 16 18]\n",
      " [20 22 24]]\n",
      "(4, 3)\n",
      "(2, 2, 2)\n",
      "[0 1 2 3 4]\n",
      "[1 4 7]\n"
     ]
    },
    {
     "data": {
      "text/plain": [
       "dtype('int64')"
      ]
     },
     "execution_count": 29,
     "metadata": {},
     "output_type": "execute_result"
    }
   ],
   "source": [
    "# NumPy 기본문법  \n",
    "\n",
    "# 일반적인 파이썬의 List \n",
    "data1 = [1,2,3]\n",
    "data2 = [1,1,2,2,3,4]\n",
    "\n",
    "# np.array로 배열로 변환 / .shape는 크기를 확인하는 함수 \n",
    "my_array1 = np.array(data1) \n",
    "print(my_array1) # [1 2 3] List w/o comma, Splitter is whitespace, not the comma \n",
    "print(my_array1.shape) # (3,) \n",
    "\n",
    "my_array2 = np.array(data2) \n",
    "print(my_array2) #[1 1 2 2 3 4]\n",
    "print(my_array2.shape) # (6,)\n",
    "\n",
    "## List선언 없이 바로 np.array 사용\n",
    "my_array3 = np.array([3,4,5,7]) \n",
    "print(my_array3) # [3 4 5 7]\n",
    "print(my_array3.dtype) # int64 \n",
    "\n",
    "## Data Types 참조: https://numpy.org/devdocs/user/basics/types.html\n",
    "\n",
    "### 2차원 배열 \n",
    "my_array4 = np.array([[2,4,6],[8,10,12],[14,16,18],[20,22,24]])\n",
    "print(my_array4)\n",
    "'''\n",
    "[[ 2  4  6]\n",
    " [ 8 10 12]\n",
    " [14 16 18]\n",
    " [20 22 24]]\n",
    "''' \n",
    "print(my_array4.shape) # (4, 3) 형태의 크기를 가진 이차원배열 \n",
    "\n",
    "### 3차원 배열  \n",
    "my_array5 = np.array([[[1,2],[3,4]],[[5,6],[7,8]]])\n",
    "print(my_array5.shape) # (2, 2, 2) 형태의 크기를 가진 3차원배열(정육면체)\n",
    "\n",
    "##NumPy 배열 생성 및 둘러보기\n",
    "# Arrange: 기본함수 중에서 Range와 조금 유사하며 더욱 쉽게 배열을 만들 수 있다. \n",
    "arrange_array = np.arange(5) #arange(start,stop) / range 내장함수와 유사 \n",
    "print(arrange_array)# [0, 1, 2, 3, 4] \n",
    "\n",
    "arrange_array2= np.arange(1,9,3,dtype=\"int64\") #(start,stop,step)\n",
    "print(arrange_array2) # [1 4 7]\n",
    "type(arrange_array2) # numpy.ndarray \n",
    "arrange_array2.dtype # dtype('int64') / 데이터타입 변경가능\n"
   ]
  },
  {
   "cell_type": "code",
   "execution_count": null,
   "metadata": {},
   "outputs": [],
   "source": [
    "## Zeroes,Ones \n",
    "# 할당하는 사이즈 배열에 0이나 1을 더욱 쉽게 입력하는 함수 \n",
    "zeros_arr = np.zeros((3,2)) \n",
    "print(zeros_arr) \n",
    "print(\"Data Type is:\", zeros_arr.dtype) #float64\n",
    "print(\"Data Shape is:\", zeros_arr.shape) #(3,2)\n",
    "\n",
    "## Ones \n",
    "# 할당하는 사이즈 배열에 0이나 1을 더욱 쉽게 입력하는 함수 \n",
    "ones_arr = np.ones((3,4),dtype=\"int32\") \n",
    "print(ones_arr) \n",
    "print(\"Data Type is:\", ones_arr.dtype) #int32\n",
    "print(\"Data Shape is:\", ones_arr.shape) # (3,4)"
   ]
  },
  {
   "cell_type": "code",
   "execution_count": 38,
   "metadata": {},
   "outputs": [
    {
     "name": "stdout",
     "output_type": "stream",
     "text": [
      "[[1 1]\n",
      " [1 1]\n",
      " [1 1]\n",
      " [1 1]\n",
      " [1 1]\n",
      " [1 1]]\n",
      "Data Shape is: (3, 4)\n",
      "[[1 1 1 1 1 1 1 1 1 1 1 1]]\n",
      "[[1 1 1 1 1 1]\n",
      " [1 1 1 1 1 1]]\n",
      "[[1 1 1 1]\n",
      " [1 1 1 1]\n",
      " [1 1 1 1]]\n",
      "[[1 1 1 1]\n",
      " [1 1 1 1]\n",
      " [1 1 1 1]]\n"
     ]
    }
   ],
   "source": [
    "## Reshape\n",
    "after_reshape= ones_arr.reshape(6,2)\n",
    "print(after_reshape)\n",
    "'''\n",
    "[[1 1]\n",
    " [1 1]\n",
    " [1 1]\n",
    " [1 1]\n",
    " [1 1]\n",
    " [1 1]]\n",
    "'''\n",
    "print(\"Data Shape is:\", ones_arr.shape) \n",
    "# 주의사항: (3,4)는 (6,2)로 바뀌지 않았다. 조건은 항상 size가(값의 갯수 or 열x행) 동일해야한다. \n",
    "\n",
    "#ones_arr를 다른 사이즈로 변경해보세요(3가지) / 사이즈만 동일하다면 여러 Shape으로 변환이 가능하다.\n",
    "after_reshape1 = ones_arr.reshape(1,12) \n",
    "print(after_reshape1)\n",
    "after_reshape2 = ones_arr.reshape(2,6) \n",
    "print(after_reshape2)\n",
    "after_reshape3 = ones_arr.reshape(3,4)\n",
    "print(after_reshape3) \n",
    "\n",
    "# reshape()에서 -1의 의미는? 차원을 자동으로 계산한다는 의미\n",
    "after_reshape4 = ones_arr.reshape(3,-1)\n",
    "print(after_reshape4)\n",
    "\n"
   ]
  },
  {
   "cell_type": "code",
   "execution_count": 43,
   "metadata": {},
   "outputs": [
    {
     "name": "stdout",
     "output_type": "stream",
     "text": [
      "[0 1 2 3]\n",
      "my_array의 1번째 요소, 즉 0번인 것은: 0\n",
      "my_array[0:3]의 실행결과 [0 1 2]\n",
      "my_array[0]의 실행결과 0\n",
      "my_array[:2]의 실행결과 [0 1]\n",
      "my_array[:]의 실행결과 [0 1 2 3]\n"
     ]
    }
   ],
   "source": [
    "## NumPy 인덱싱과 슬라이싱  \n",
    "my_array= np.arange(0,4) \n",
    "print(my_array) # [0 1 2 3] \n",
    "print(\"my_array의 1번째 요소, 즉 0번인 것은:\", my_array[0]) # 0\n",
    "print(\"my_array[0:3]의 실행결과\", my_array[0:3]) # [0 1 2 ]\n",
    "print(\"my_array[0]의 실행결과\", my_array[0]) # [0 1 2 ]\n",
    "print(\"my_array[:2]의 실행결과\", my_array[:2]) # [0 1 ]\n",
    "print(\"my_array[:]의 실행결과\", my_array[:]) # [0 1 2 3]\n",
    "print(\"my_array[0:-1]의 실행결과\", my_array[:]) "
   ]
  },
  {
   "cell_type": "code",
   "execution_count": 53,
   "metadata": {},
   "outputs": [
    {
     "name": "stdout",
     "output_type": "stream",
     "text": [
      "[[ 2  4  6  8 10 12 14 16 18]\n",
      " [ 3  6  9 12 15 18 21 24 27]\n",
      " [ 4  8 12 16 20 24 28 32 36]\n",
      " [ 5 10 15 20 25 30 35 40 45]]\n",
      "(4, 9)\n",
      "[[2 4]\n",
      " [3 6]]\n",
      "[[ 3  6  9 12 15 18 21 24 27]\n",
      " [ 4  8 12 16 20 24 28 32 36]]\n"
     ]
    }
   ],
   "source": [
    "my_array2 =np.array(\n",
    "    [[2,4,6,8,10,12,14,16,18],\n",
    "     [3,6,9,12,15,18,21,24,27], \n",
    "     [4,8,12,16,20,24,28,32,36], \n",
    "     [5,10,15,20,25,30,35,40,45]\n",
    "      ])\n",
    "print(my_array2) \n",
    "print(my_array2.shape) # (4,) \n",
    "print(my_array2[0:2,0:2]) # Row먼저 -> Column \n",
    "print(my_array2[1:3,:]) # Row 먼저 -> Columnn \n",
    "\n"
   ]
  },
  {
   "cell_type": "code",
   "execution_count": 56,
   "metadata": {},
   "outputs": [
    {
     "name": "stdout",
     "output_type": "stream",
     "text": [
      "Height Matrix: [174 165 182 180 168]\n",
      "np.sort() Matrix : [165 168 174 180 182]\n",
      "np.sort()[::1] :  [182 180 174 168 165]\n"
     ]
    }
   ],
   "source": [
    "## NumPy 정렬: sort(), argsort() \n",
    "\n",
    "# np.sort(): 원본에 변화를 주지 않고 복사본을 전달함. \n",
    "height_arr = np.array([174,165,182,180,168]) \n",
    "sorted_height_arr = np.sort(height_arr)\n",
    "\n",
    "print(\"Height Matrix:\", height_arr)\n",
    "print(\"np.sort() Matrix :\", sorted_height_arr) \n",
    "\n",
    "# 내림차순 정렬\n",
    "desc_sorted_height_arr = np.sort(height_arr)[::-1] \n",
    "print(\"np.sort()[::1] : \", desc_sorted_height_arr) # 슬라이싱을 이용한 내림차순 정렬 \n"
   ]
  },
  {
   "cell_type": "code",
   "execution_count": 58,
   "metadata": {},
   "outputs": [
    {
     "name": "stdout",
     "output_type": "stream",
     "text": [
      "original data : [10  5 15 20]\n",
      "argsort() : [1 0 2 3]\n",
      "Ascending : [ 5 10 15 20]\n"
     ]
    }
   ],
   "source": [
    "## argsort()\n",
    "# numpy.argsort() 함수는 지정된 축을 따라 데이터 인덱스의 배열을 반환하도록 \n",
    "# 지정된 종류의 정렬을 사용해 입력배열에서 간접정렬을 수행함 \n",
    "\n",
    "fives = np.array([10,5,15,20])\n",
    "fives_order = fives.argsort()\n",
    "\n",
    "print(\"original data :\", fives) # [10 5 15 20]\n",
    "print(\"argsort() :\", fives_order)# [1 0 2 3] #인덱싱 값의 역할  \n",
    "print(\"Ascending :\", fives[fives_order]) # [5 10 15 20]\n",
    "\n",
    "# NumPy Tutorials: https://numpy.org/learn/\n",
    "# NumPy Broadcasting: https://numpy.org/doc/stable/user/basics.broadcasting.html\n",
    "# 숙) 같은 크기의 두 배열에 대한 연산과 서로 크기가 다른 두 배열의 연산을 공부하세요 "
   ]
  },
  {
   "cell_type": "markdown",
   "metadata": {},
   "source": [
    "\n",
    "\n",
    "\n",
    "\n",
    "\n",
    "\n"
   ]
  }
 ],
 "metadata": {
  "interpreter": {
   "hash": "aee8b7b246df8f9039afb4144a1f6fd8d2ca17a180786b69acc140d282b71a49"
  },
  "kernelspec": {
   "display_name": "Python 3.10.3 64-bit",
   "language": "python",
   "name": "python3"
  },
  "language_info": {
   "codemirror_mode": {
    "name": "ipython",
    "version": 3
   },
   "file_extension": ".py",
   "mimetype": "text/x-python",
   "name": "python",
   "nbconvert_exporter": "python",
   "pygments_lexer": "ipython3",
   "version": "3.10.3"
  },
  "orig_nbformat": 4
 },
 "nbformat": 4,
 "nbformat_minor": 2
}
