{
 "cells": [
  {
   "cell_type": "code",
   "execution_count": 4,
   "metadata": {},
   "outputs": [
    {
     "data": {
      "text/plain": [
       "numpy.ndarray"
      ]
     },
     "execution_count": 4,
     "metadata": {},
     "output_type": "execute_result"
    }
   ],
   "source": [
    "## NumPy: 과학, 수치 등에 대한 통계(데이터분석)\n",
    "# 고성능 수치계산을 위해 제작된 라이브러리\n",
    "# 머신러닝, 딥러닝 알고리즘은 기본적으로 다차원 배열에 대한 계산을 볼 수 있음. \n",
    "# 또는 대량 데이터를 다룰 때에 빠른 계산능력이 요구되어 사용되는 라이브러리 \n",
    "# 다차원배열, 대용량에 적합한 사이트 \n",
    "\n",
    "# 생성된 Numpy 확인- NumPy 핵심객체(Ndarray) \n",
    "import numpy as np\n",
    "temp= np.array([1,2,3])\n",
    "print(type(temp)) # numpy.ndarray\n",
    "\n",
    "# 튜토리얼: https://numpy.org/doc/stable/user/quickstart.html"
   ]
  },
  {
   "cell_type": "code",
   "execution_count": 29,
   "metadata": {},
   "outputs": [
    {
     "name": "stdout",
     "output_type": "stream",
     "text": [
      "[1 2 3]\n",
      "(3,)\n",
      "[1 1 2 2 3 4]\n",
      "(6,)\n",
      "[3 4 5 7]\n",
      "int64\n",
      "[[ 2  4  6]\n",
      " [ 8 10 12]\n",
      " [14 16 18]\n",
      " [20 22 24]]\n",
      "(4, 3)\n",
      "(2, 2, 2)\n",
      "[0 1 2 3 4]\n",
      "[1 4 7]\n"
     ]
    },
    {
     "data": {
      "text/plain": [
       "dtype('int64')"
      ]
     },
     "execution_count": 29,
     "metadata": {},
     "output_type": "execute_result"
    }
   ],
   "source": [
    "# NumPy 기본문법  \n",
    "\n",
    "# 일반적인 파이썬의 List \n",
    "data1 = [1,2,3]\n",
    "data2 = [1,1,2,2,3,4]\n",
    "\n",
    "# np.array로 배열로 변환 / .shape는 크기를 확인하는 함수 \n",
    "my_array1 = np.array(data1) \n",
    "print(my_array1) # [1 2 3] List w/o comma, Splitter is whitespace, not the comma \n",
    "print(my_array1.shape) # (3,) \n",
    "\n",
    "my_array2 = np.array(data2) \n",
    "print(my_array2) #[1 1 2 2 3 4]\n",
    "print(my_array2.shape) # (6,)\n",
    "\n",
    "## List선언 없이 바로 np.array 사용\n",
    "my_array3 = np.array([3,4,5,7]) \n",
    "print(my_array3) # [3 4 5 7]\n",
    "print(my_array3.dtype) # int64 \n",
    "\n",
    "## Data Types 참조: https://numpy.org/devdocs/user/basics/types.html\n",
    "\n",
    "### 2차원 배열 \n",
    "my_array4 = np.array([[2,4,6],[8,10,12],[14,16,18],[20,22,24]])\n",
    "print(my_array4)\n",
    "'''\n",
    "[[ 2  4  6]\n",
    " [ 8 10 12]\n",
    " [14 16 18]\n",
    " [20 22 24]]\n",
    "''' \n",
    "print(my_array4.shape) # (4, 3) 형태의 크기를 가진 이차원배열 \n",
    "\n",
    "### 3차원 배열  \n",
    "my_array5 = np.array([[[1,2],[3,4]],[[5,6],[7,8]]])\n",
    "print(my_array5.shape) # (2, 2, 2) 형태의 크기를 가진 3차원배열(정육면체)\n",
    "\n",
    "##NumPy 배열 생성 및 둘러보기\n",
    "# Arrange: 기본함수 중에서 Range와 조금 유사하며 더욱 쉽게 배열을 만들 수 있다. \n",
    "arrange_array = np.arange(5) #arange(start,stop) / range 내장함수와 유사 \n",
    "print(arrange_array)# [0, 1, 2, 3, 4] \n",
    "\n",
    "arrange_array2= np.arange(1,9,3,dtype=\"int64\") #(start,stop,step)\n",
    "print(arrange_array2) # [1 4 7]\n",
    "type(arrange_array2) # numpy.ndarray \n",
    "arrange_array2.dtype # dtype('int64') / 데이터타입 변경가능\n",
    "\n",
    "\n",
    "\n",
    "\n",
    "\n",
    "\n",
    "\n",
    "\n",
    "\n",
    "\n",
    "\n",
    "\n",
    "\n",
    "\n",
    "\n"
   ]
  },
  {
   "cell_type": "code",
   "execution_count": null,
   "metadata": {},
   "outputs": [],
   "source": []
  }
 ],
 "metadata": {
  "interpreter": {
   "hash": "aee8b7b246df8f9039afb4144a1f6fd8d2ca17a180786b69acc140d282b71a49"
  },
  "kernelspec": {
   "display_name": "Python 3.10.3 64-bit",
   "language": "python",
   "name": "python3"
  },
  "language_info": {
   "codemirror_mode": {
    "name": "ipython",
    "version": 3
   },
   "file_extension": ".py",
   "mimetype": "text/x-python",
   "name": "python",
   "nbconvert_exporter": "python",
   "pygments_lexer": "ipython3",
   "version": "3.10.3"
  },
  "orig_nbformat": 4
 },
 "nbformat": 4,
 "nbformat_minor": 2
}
